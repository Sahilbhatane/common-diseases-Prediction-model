{
  "cells": [
    {
      "cell_type": "markdown",
      "metadata": {
        "id": "Sw4ftwBp1ywF"
      },
      "source": [
        "#Disease Prediction from Symptoms"
      ]
    },
    {
      "cell_type": "markdown",
      "metadata": {
        "id": "ld2NA33e2AZA"
      },
      "source": [
        "The dataset source: http://people.dbmi.columbia.edu/~friedma/Projects/DiseaseSymptomKB/index.html\n",
        "\n",
        "The extraction was performed by copying the data on the website in the .html format and saving it in an Excel file for performing further operations. Basic cleaning, segmentation of columns and string formatting were performed in excel. The excel sheet was then added to this Google Colab Notebook.\n",
        "\n"
      ]
    },
    {
      "cell_type": "markdown",
      "metadata": {
        "id": "5_OeGJCu4LAJ"
      },
      "source": [
        "##Importing all needed libraries"
      ]
    },
    {
      "cell_type": "code",
      "execution_count": 1,
      "metadata": {
        "id": "j7FCQhWE4O6G"
      },
      "outputs": [],
      "source": [
        "# Import Dependencies\n",
        "import csv\n",
        "import pandas as pd\n",
        "import numpy as np\n",
        "from collections import defaultdict\n",
        "import seaborn as sns\n",
        "import matplotlib.pyplot as plt\n",
        "%matplotlib inline"
      ]
    },
    {
      "cell_type": "markdown",
      "metadata": {
        "id": "Gtsxh7gk3D_j"
      },
      "source": [
        "## Transforming & Loading the Data"
      ]
    },
    {
      "cell_type": "markdown",
      "metadata": {
        "id": "LcWOrtuW5p7K"
      },
      "source": [
        "### Loading the Dataset File generated after preprocessing in excel"
      ]
    },
    {
      "cell_type": "code",
      "execution_count": 2,
      "metadata": {
        "id": "i761Bu8d_loe"
      },
      "outputs": [],
      "source": [
        "disease_list = []\n",
        "\n",
        "def return_list(disease):\n",
        "    disease_list = []\n",
        "    match = disease.replace('^','_').split('_') # using _ as common splitting delimeter\n",
        "    ctr = 1\n",
        "    for group in match:\n",
        "        if ctr%2==0:\n",
        "            disease_list.append(group) # refer the data format\n",
        "        ctr = ctr + 1\n",
        "\n",
        "    return disease_list\n",
        "\n",
        "with open(\"Datasets/raw_data_2.csv\") as csvfile:\n",
        "    reader = csv.reader(csvfile)\n",
        "    disease=\"\"\n",
        "    weight = 0\n",
        "    disease_list = []\n",
        "    dict_wt = {}\n",
        "    dict_=defaultdict(list)\n",
        "    \n",
        "    for row in reader:\n",
        "\n",
        "        if row[0]!=\"\\xc2\\0xa0\" and row[0]!=\"\": # for handling file encoding errors\n",
        "          # saving disease and frequency\n",
        "            disease = row[0]\n",
        "            disease_list = return_list(disease)\n",
        "            weight = row[1]\n",
        "\n",
        "        if row[2]!=\"\\xc2\\0xa0\" and row[2]!=\"\":\n",
        "            symptom_list = return_list(row[2])\n",
        "\n",
        "            for d in disease_list:\n",
        "                for s in symptom_list:\n",
        "                    dict_[d].append(s) # adding all symptoms\n",
        "                dict_wt[d] = weight\n"
      ]
    },
    {
      "cell_type": "markdown",
      "metadata": {
        "id": "eX4DZHGj6vPV"
      },
      "source": [
        "### Reformatting the data"
      ]
    },
    {
      "cell_type": "code",
      "execution_count": 3,
      "metadata": {
        "id": "NZzZMu1__rCl"
      },
      "outputs": [],
      "source": [
        "# saving cleaned data\n",
        "with open(\"dataset_clean.csv\",\"w\") as csvfile:\n",
        "    writer = csv.writer(csvfile)\n",
        "    for key,values in dict_.items():\n",
        "        for v in values:\n",
        "            #key = str.encode(key)\n",
        "            key = str.encode(key).decode('utf-8')\n",
        "            #.strip()\n",
        "            #v = v.encode('utf-8').strip()\n",
        "            #v = str.encode(v)\n",
        "            writer.writerow([key,v,dict_wt[key]])"
      ]
    },
    {
      "cell_type": "code",
      "execution_count": 4,
      "metadata": {
        "id": "dsBAHhNLBv0L"
      },
      "outputs": [],
      "source": [
        "columns = ['Source','Target','Weight'] # source: disease, target: symptom, weight: number of cases"
      ]
    },
    {
      "cell_type": "code",
      "execution_count": 5,
      "metadata": {
        "id": "_YGOuLUDB6Fb"
      },
      "outputs": [],
      "source": [
        "data = pd.read_csv(\"dataset_clean.csv\",names=columns, encoding =\"ISO-8859-1\")"
      ]
    },
    {
      "cell_type": "code",
      "execution_count": 6,
      "metadata": {
        "colab": {
          "base_uri": "https://localhost:8080/",
          "height": 198
        },
        "id": "ih9KUFtFCCrW",
        "outputId": "6d845096-2a16-4237-fae6-f9bdd7f41adc"
      },
      "outputs": [
        {
          "data": {
            "text/html": [
              "<div>\n",
              "<style scoped>\n",
              "    .dataframe tbody tr th:only-of-type {\n",
              "        vertical-align: middle;\n",
              "    }\n",
              "\n",
              "    .dataframe tbody tr th {\n",
              "        vertical-align: top;\n",
              "    }\n",
              "\n",
              "    .dataframe thead th {\n",
              "        text-align: right;\n",
              "    }\n",
              "</style>\n",
              "<table border=\"1\" class=\"dataframe\">\n",
              "  <thead>\n",
              "    <tr style=\"text-align: right;\">\n",
              "      <th></th>\n",
              "      <th>Source</th>\n",
              "      <th>Target</th>\n",
              "      <th>Weight</th>\n",
              "    </tr>\n",
              "  </thead>\n",
              "  <tbody>\n",
              "    <tr>\n",
              "      <th>0</th>\n",
              "      <td>hypertensive disease</td>\n",
              "      <td>pain chest</td>\n",
              "      <td>3363</td>\n",
              "    </tr>\n",
              "    <tr>\n",
              "      <th>1</th>\n",
              "      <td>hypertensive disease</td>\n",
              "      <td>shortness of breath</td>\n",
              "      <td>3363</td>\n",
              "    </tr>\n",
              "    <tr>\n",
              "      <th>2</th>\n",
              "      <td>hypertensive disease</td>\n",
              "      <td>dizziness</td>\n",
              "      <td>3363</td>\n",
              "    </tr>\n",
              "    <tr>\n",
              "      <th>3</th>\n",
              "      <td>hypertensive disease</td>\n",
              "      <td>asthenia</td>\n",
              "      <td>3363</td>\n",
              "    </tr>\n",
              "    <tr>\n",
              "      <th>4</th>\n",
              "      <td>hypertensive disease</td>\n",
              "      <td>fall</td>\n",
              "      <td>3363</td>\n",
              "    </tr>\n",
              "  </tbody>\n",
              "</table>\n",
              "</div>"
            ],
            "text/plain": [
              "                 Source               Target  Weight\n",
              "0  hypertensive disease           pain chest    3363\n",
              "1  hypertensive disease  shortness of breath    3363\n",
              "2  hypertensive disease            dizziness    3363\n",
              "3  hypertensive disease             asthenia    3363\n",
              "4  hypertensive disease                 fall    3363"
            ]
          },
          "execution_count": 6,
          "metadata": {},
          "output_type": "execute_result"
        }
      ],
      "source": [
        "data.head()"
      ]
    },
    {
      "cell_type": "code",
      "execution_count": 7,
      "metadata": {
        "id": "lmSxgxt3CFiU"
      },
      "outputs": [],
      "source": [
        "data.to_csv(\"dataset_clean.csv\",index=False)"
      ]
    },
    {
      "cell_type": "code",
      "execution_count": 8,
      "metadata": {
        "id": "rObI5Pn4DIsS"
      },
      "outputs": [],
      "source": [
        "data = pd.read_csv(\"dataset_clean.csv\", encoding =\"ISO-8859-1\")"
      ]
    },
    {
      "cell_type": "code",
      "execution_count": 9,
      "metadata": {
        "colab": {
          "base_uri": "https://localhost:8080/",
          "height": 198
        },
        "id": "Bwg7dQpbDay3",
        "outputId": "ac039418-cdb2-41d1-cec1-eeebfb5c3014"
      },
      "outputs": [
        {
          "data": {
            "text/html": [
              "<div>\n",
              "<style scoped>\n",
              "    .dataframe tbody tr th:only-of-type {\n",
              "        vertical-align: middle;\n",
              "    }\n",
              "\n",
              "    .dataframe tbody tr th {\n",
              "        vertical-align: top;\n",
              "    }\n",
              "\n",
              "    .dataframe thead th {\n",
              "        text-align: right;\n",
              "    }\n",
              "</style>\n",
              "<table border=\"1\" class=\"dataframe\">\n",
              "  <thead>\n",
              "    <tr style=\"text-align: right;\">\n",
              "      <th></th>\n",
              "      <th>Source</th>\n",
              "      <th>Target</th>\n",
              "      <th>Weight</th>\n",
              "    </tr>\n",
              "  </thead>\n",
              "  <tbody>\n",
              "    <tr>\n",
              "      <th>0</th>\n",
              "      <td>hypertensive disease</td>\n",
              "      <td>pain chest</td>\n",
              "      <td>3363</td>\n",
              "    </tr>\n",
              "    <tr>\n",
              "      <th>1</th>\n",
              "      <td>hypertensive disease</td>\n",
              "      <td>shortness of breath</td>\n",
              "      <td>3363</td>\n",
              "    </tr>\n",
              "    <tr>\n",
              "      <th>2</th>\n",
              "      <td>hypertensive disease</td>\n",
              "      <td>dizziness</td>\n",
              "      <td>3363</td>\n",
              "    </tr>\n",
              "    <tr>\n",
              "      <th>3</th>\n",
              "      <td>hypertensive disease</td>\n",
              "      <td>asthenia</td>\n",
              "      <td>3363</td>\n",
              "    </tr>\n",
              "    <tr>\n",
              "      <th>4</th>\n",
              "      <td>hypertensive disease</td>\n",
              "      <td>fall</td>\n",
              "      <td>3363</td>\n",
              "    </tr>\n",
              "  </tbody>\n",
              "</table>\n",
              "</div>"
            ],
            "text/plain": [
              "                 Source               Target  Weight\n",
              "0  hypertensive disease           pain chest    3363\n",
              "1  hypertensive disease  shortness of breath    3363\n",
              "2  hypertensive disease            dizziness    3363\n",
              "3  hypertensive disease             asthenia    3363\n",
              "4  hypertensive disease                 fall    3363"
            ]
          },
          "execution_count": 9,
          "metadata": {},
          "output_type": "execute_result"
        }
      ],
      "source": [
        "data.head()"
      ]
    },
    {
      "cell_type": "code",
      "execution_count": 10,
      "metadata": {
        "colab": {
          "base_uri": "https://localhost:8080/",
          "height": 35
        },
        "id": "A6HgpAP9Ddj0",
        "outputId": "e6a0ddaa-6ed8-4412-8654-d154f15708ab"
      },
      "outputs": [
        {
          "data": {
            "text/plain": [
              "149"
            ]
          },
          "execution_count": 10,
          "metadata": {},
          "output_type": "execute_result"
        }
      ],
      "source": [
        "len(data['Source'].unique()) # unique diseases"
      ]
    },
    {
      "cell_type": "code",
      "execution_count": 11,
      "metadata": {
        "colab": {
          "base_uri": "https://localhost:8080/",
          "height": 35
        },
        "id": "pTM-Dk9bDkQo",
        "outputId": "0896fe72-20f8-4952-a153-896a37eb4957"
      },
      "outputs": [
        {
          "data": {
            "text/plain": [
              "405"
            ]
          },
          "execution_count": 11,
          "metadata": {},
          "output_type": "execute_result"
        }
      ],
      "source": [
        "len(data['Target'].unique()) # unique symptoms"
      ]
    },
    {
      "cell_type": "code",
      "execution_count": 12,
      "metadata": {
        "id": "Q5_jTBhZDnhe"
      },
      "outputs": [],
      "source": [
        "df = pd.DataFrame(data)"
      ]
    },
    {
      "cell_type": "code",
      "execution_count": 13,
      "metadata": {
        "id": "oQmVWV11D4Jw"
      },
      "outputs": [],
      "source": [
        "df_1 = pd.get_dummies(df.Target) # 1 hot encoding symptoms"
      ]
    },
    {
      "cell_type": "code",
      "execution_count": 14,
      "metadata": {
        "colab": {
          "base_uri": "https://localhost:8080/",
          "height": 316
        },
        "id": "q8f90OdrD6ng",
        "outputId": "3141a5b7-023b-416f-fdc2-b47ae1b01725"
      },
      "outputs": [
        {
          "data": {
            "text/html": [
              "<div>\n",
              "<style scoped>\n",
              "    .dataframe tbody tr th:only-of-type {\n",
              "        vertical-align: middle;\n",
              "    }\n",
              "\n",
              "    .dataframe tbody tr th {\n",
              "        vertical-align: top;\n",
              "    }\n",
              "\n",
              "    .dataframe thead th {\n",
              "        text-align: right;\n",
              "    }\n",
              "</style>\n",
              "<table border=\"1\" class=\"dataframe\">\n",
              "  <thead>\n",
              "    <tr style=\"text-align: right;\">\n",
              "      <th></th>\n",
              "      <th>Heberden's node</th>\n",
              "      <th>Murphy's sign</th>\n",
              "      <th>Stahli's line</th>\n",
              "      <th>abdomen acute</th>\n",
              "      <th>abdominal bloating</th>\n",
              "      <th>abdominal tenderness</th>\n",
              "      <th>abnormal sensation</th>\n",
              "      <th>abnormally hard consistency</th>\n",
              "      <th>abortion</th>\n",
              "      <th>abscess bacterial</th>\n",
              "      <th>...</th>\n",
              "      <th>vision blurred</th>\n",
              "      <th>vomiting</th>\n",
              "      <th>weepiness</th>\n",
              "      <th>weight gain</th>\n",
              "      <th>welt</th>\n",
              "      <th>wheelchair bound</th>\n",
              "      <th>wheezing</th>\n",
              "      <th>withdraw</th>\n",
              "      <th>worry</th>\n",
              "      <th>yellow sputum</th>\n",
              "    </tr>\n",
              "  </thead>\n",
              "  <tbody>\n",
              "    <tr>\n",
              "      <th>0</th>\n",
              "      <td>False</td>\n",
              "      <td>False</td>\n",
              "      <td>False</td>\n",
              "      <td>False</td>\n",
              "      <td>False</td>\n",
              "      <td>False</td>\n",
              "      <td>False</td>\n",
              "      <td>False</td>\n",
              "      <td>False</td>\n",
              "      <td>False</td>\n",
              "      <td>...</td>\n",
              "      <td>False</td>\n",
              "      <td>False</td>\n",
              "      <td>False</td>\n",
              "      <td>False</td>\n",
              "      <td>False</td>\n",
              "      <td>False</td>\n",
              "      <td>False</td>\n",
              "      <td>False</td>\n",
              "      <td>False</td>\n",
              "      <td>False</td>\n",
              "    </tr>\n",
              "    <tr>\n",
              "      <th>1</th>\n",
              "      <td>False</td>\n",
              "      <td>False</td>\n",
              "      <td>False</td>\n",
              "      <td>False</td>\n",
              "      <td>False</td>\n",
              "      <td>False</td>\n",
              "      <td>False</td>\n",
              "      <td>False</td>\n",
              "      <td>False</td>\n",
              "      <td>False</td>\n",
              "      <td>...</td>\n",
              "      <td>False</td>\n",
              "      <td>False</td>\n",
              "      <td>False</td>\n",
              "      <td>False</td>\n",
              "      <td>False</td>\n",
              "      <td>False</td>\n",
              "      <td>False</td>\n",
              "      <td>False</td>\n",
              "      <td>False</td>\n",
              "      <td>False</td>\n",
              "    </tr>\n",
              "    <tr>\n",
              "      <th>2</th>\n",
              "      <td>False</td>\n",
              "      <td>False</td>\n",
              "      <td>False</td>\n",
              "      <td>False</td>\n",
              "      <td>False</td>\n",
              "      <td>False</td>\n",
              "      <td>False</td>\n",
              "      <td>False</td>\n",
              "      <td>False</td>\n",
              "      <td>False</td>\n",
              "      <td>...</td>\n",
              "      <td>False</td>\n",
              "      <td>False</td>\n",
              "      <td>False</td>\n",
              "      <td>False</td>\n",
              "      <td>False</td>\n",
              "      <td>False</td>\n",
              "      <td>False</td>\n",
              "      <td>False</td>\n",
              "      <td>False</td>\n",
              "      <td>False</td>\n",
              "    </tr>\n",
              "    <tr>\n",
              "      <th>3</th>\n",
              "      <td>False</td>\n",
              "      <td>False</td>\n",
              "      <td>False</td>\n",
              "      <td>False</td>\n",
              "      <td>False</td>\n",
              "      <td>False</td>\n",
              "      <td>False</td>\n",
              "      <td>False</td>\n",
              "      <td>False</td>\n",
              "      <td>False</td>\n",
              "      <td>...</td>\n",
              "      <td>False</td>\n",
              "      <td>False</td>\n",
              "      <td>False</td>\n",
              "      <td>False</td>\n",
              "      <td>False</td>\n",
              "      <td>False</td>\n",
              "      <td>False</td>\n",
              "      <td>False</td>\n",
              "      <td>False</td>\n",
              "      <td>False</td>\n",
              "    </tr>\n",
              "    <tr>\n",
              "      <th>4</th>\n",
              "      <td>False</td>\n",
              "      <td>False</td>\n",
              "      <td>False</td>\n",
              "      <td>False</td>\n",
              "      <td>False</td>\n",
              "      <td>False</td>\n",
              "      <td>False</td>\n",
              "      <td>False</td>\n",
              "      <td>False</td>\n",
              "      <td>False</td>\n",
              "      <td>...</td>\n",
              "      <td>False</td>\n",
              "      <td>False</td>\n",
              "      <td>False</td>\n",
              "      <td>False</td>\n",
              "      <td>False</td>\n",
              "      <td>False</td>\n",
              "      <td>False</td>\n",
              "      <td>False</td>\n",
              "      <td>False</td>\n",
              "      <td>False</td>\n",
              "    </tr>\n",
              "  </tbody>\n",
              "</table>\n",
              "<p>5 rows × 404 columns</p>\n",
              "</div>"
            ],
            "text/plain": [
              "   Heberden's node  Murphy's sign  Stahli's line  abdomen acute  \\\n",
              "0            False          False          False          False   \n",
              "1            False          False          False          False   \n",
              "2            False          False          False          False   \n",
              "3            False          False          False          False   \n",
              "4            False          False          False          False   \n",
              "\n",
              "   abdominal bloating  abdominal tenderness  abnormal sensation  \\\n",
              "0               False                 False               False   \n",
              "1               False                 False               False   \n",
              "2               False                 False               False   \n",
              "3               False                 False               False   \n",
              "4               False                 False               False   \n",
              "\n",
              "   abnormally hard consistency  abortion  abscess bacterial  ...  \\\n",
              "0                        False     False              False  ...   \n",
              "1                        False     False              False  ...   \n",
              "2                        False     False              False  ...   \n",
              "3                        False     False              False  ...   \n",
              "4                        False     False              False  ...   \n",
              "\n",
              "   vision blurred  vomiting  weepiness  weight gain   welt  wheelchair bound  \\\n",
              "0           False     False      False        False  False             False   \n",
              "1           False     False      False        False  False             False   \n",
              "2           False     False      False        False  False             False   \n",
              "3           False     False      False        False  False             False   \n",
              "4           False     False      False        False  False             False   \n",
              "\n",
              "   wheezing  withdraw  worry  yellow sputum  \n",
              "0     False     False  False          False  \n",
              "1     False     False  False          False  \n",
              "2     False     False  False          False  \n",
              "3     False     False  False          False  \n",
              "4     False     False  False          False  \n",
              "\n",
              "[5 rows x 404 columns]"
            ]
          },
          "execution_count": 14,
          "metadata": {},
          "output_type": "execute_result"
        }
      ],
      "source": [
        "df_1.head()"
      ]
    },
    {
      "cell_type": "code",
      "execution_count": 15,
      "metadata": {
        "colab": {
          "base_uri": "https://localhost:8080/",
          "height": 198
        },
        "id": "2cBByn3CD-Bp",
        "outputId": "7e22d5d3-fa62-452f-cb3c-1d8c8a0bda5e"
      },
      "outputs": [
        {
          "data": {
            "text/html": [
              "<div>\n",
              "<style scoped>\n",
              "    .dataframe tbody tr th:only-of-type {\n",
              "        vertical-align: middle;\n",
              "    }\n",
              "\n",
              "    .dataframe tbody tr th {\n",
              "        vertical-align: top;\n",
              "    }\n",
              "\n",
              "    .dataframe thead th {\n",
              "        text-align: right;\n",
              "    }\n",
              "</style>\n",
              "<table border=\"1\" class=\"dataframe\">\n",
              "  <thead>\n",
              "    <tr style=\"text-align: right;\">\n",
              "      <th></th>\n",
              "      <th>Source</th>\n",
              "      <th>Target</th>\n",
              "      <th>Weight</th>\n",
              "    </tr>\n",
              "  </thead>\n",
              "  <tbody>\n",
              "    <tr>\n",
              "      <th>0</th>\n",
              "      <td>hypertensive disease</td>\n",
              "      <td>pain chest</td>\n",
              "      <td>3363</td>\n",
              "    </tr>\n",
              "    <tr>\n",
              "      <th>1</th>\n",
              "      <td>hypertensive disease</td>\n",
              "      <td>shortness of breath</td>\n",
              "      <td>3363</td>\n",
              "    </tr>\n",
              "    <tr>\n",
              "      <th>2</th>\n",
              "      <td>hypertensive disease</td>\n",
              "      <td>dizziness</td>\n",
              "      <td>3363</td>\n",
              "    </tr>\n",
              "    <tr>\n",
              "      <th>3</th>\n",
              "      <td>hypertensive disease</td>\n",
              "      <td>asthenia</td>\n",
              "      <td>3363</td>\n",
              "    </tr>\n",
              "    <tr>\n",
              "      <th>4</th>\n",
              "      <td>hypertensive disease</td>\n",
              "      <td>fall</td>\n",
              "      <td>3363</td>\n",
              "    </tr>\n",
              "  </tbody>\n",
              "</table>\n",
              "</div>"
            ],
            "text/plain": [
              "                 Source               Target  Weight\n",
              "0  hypertensive disease           pain chest    3363\n",
              "1  hypertensive disease  shortness of breath    3363\n",
              "2  hypertensive disease            dizziness    3363\n",
              "3  hypertensive disease             asthenia    3363\n",
              "4  hypertensive disease                 fall    3363"
            ]
          },
          "execution_count": 15,
          "metadata": {},
          "output_type": "execute_result"
        }
      ],
      "source": [
        "df.head()"
      ]
    },
    {
      "cell_type": "code",
      "execution_count": 16,
      "metadata": {
        "id": "ukFsixxUEHc3"
      },
      "outputs": [],
      "source": [
        "df_s = df['Source']"
      ]
    },
    {
      "cell_type": "code",
      "execution_count": 17,
      "metadata": {
        "id": "s_zsLvHBEMER"
      },
      "outputs": [],
      "source": [
        "df_pivoted = pd.concat([df_s,df_1], axis=1)"
      ]
    },
    {
      "cell_type": "code",
      "execution_count": 18,
      "metadata": {
        "id": "YTMzBx5VEOZ8"
      },
      "outputs": [],
      "source": [
        "df_pivoted.drop_duplicates(keep='first',inplace=True)"
      ]
    },
    {
      "cell_type": "code",
      "execution_count": 19,
      "metadata": {
        "colab": {
          "base_uri": "https://localhost:8080/",
          "height": 403
        },
        "id": "_JPOr0NZEStk",
        "outputId": "fc77204c-2074-4009-bbdd-427fe32c1f80"
      },
      "outputs": [
        {
          "data": {
            "text/html": [
              "<div>\n",
              "<style scoped>\n",
              "    .dataframe tbody tr th:only-of-type {\n",
              "        vertical-align: middle;\n",
              "    }\n",
              "\n",
              "    .dataframe tbody tr th {\n",
              "        vertical-align: top;\n",
              "    }\n",
              "\n",
              "    .dataframe thead th {\n",
              "        text-align: right;\n",
              "    }\n",
              "</style>\n",
              "<table border=\"1\" class=\"dataframe\">\n",
              "  <thead>\n",
              "    <tr style=\"text-align: right;\">\n",
              "      <th></th>\n",
              "      <th>Source</th>\n",
              "      <th>Heberden's node</th>\n",
              "      <th>Murphy's sign</th>\n",
              "      <th>Stahli's line</th>\n",
              "      <th>abdomen acute</th>\n",
              "      <th>abdominal bloating</th>\n",
              "      <th>abdominal tenderness</th>\n",
              "      <th>abnormal sensation</th>\n",
              "      <th>abnormally hard consistency</th>\n",
              "      <th>abortion</th>\n",
              "      <th>...</th>\n",
              "      <th>vision blurred</th>\n",
              "      <th>vomiting</th>\n",
              "      <th>weepiness</th>\n",
              "      <th>weight gain</th>\n",
              "      <th>welt</th>\n",
              "      <th>wheelchair bound</th>\n",
              "      <th>wheezing</th>\n",
              "      <th>withdraw</th>\n",
              "      <th>worry</th>\n",
              "      <th>yellow sputum</th>\n",
              "    </tr>\n",
              "  </thead>\n",
              "  <tbody>\n",
              "    <tr>\n",
              "      <th>0</th>\n",
              "      <td>hypertensive disease</td>\n",
              "      <td>False</td>\n",
              "      <td>False</td>\n",
              "      <td>False</td>\n",
              "      <td>False</td>\n",
              "      <td>False</td>\n",
              "      <td>False</td>\n",
              "      <td>False</td>\n",
              "      <td>False</td>\n",
              "      <td>False</td>\n",
              "      <td>...</td>\n",
              "      <td>False</td>\n",
              "      <td>False</td>\n",
              "      <td>False</td>\n",
              "      <td>False</td>\n",
              "      <td>False</td>\n",
              "      <td>False</td>\n",
              "      <td>False</td>\n",
              "      <td>False</td>\n",
              "      <td>False</td>\n",
              "      <td>False</td>\n",
              "    </tr>\n",
              "    <tr>\n",
              "      <th>1</th>\n",
              "      <td>hypertensive disease</td>\n",
              "      <td>False</td>\n",
              "      <td>False</td>\n",
              "      <td>False</td>\n",
              "      <td>False</td>\n",
              "      <td>False</td>\n",
              "      <td>False</td>\n",
              "      <td>False</td>\n",
              "      <td>False</td>\n",
              "      <td>False</td>\n",
              "      <td>...</td>\n",
              "      <td>False</td>\n",
              "      <td>False</td>\n",
              "      <td>False</td>\n",
              "      <td>False</td>\n",
              "      <td>False</td>\n",
              "      <td>False</td>\n",
              "      <td>False</td>\n",
              "      <td>False</td>\n",
              "      <td>False</td>\n",
              "      <td>False</td>\n",
              "    </tr>\n",
              "    <tr>\n",
              "      <th>2</th>\n",
              "      <td>hypertensive disease</td>\n",
              "      <td>False</td>\n",
              "      <td>False</td>\n",
              "      <td>False</td>\n",
              "      <td>False</td>\n",
              "      <td>False</td>\n",
              "      <td>False</td>\n",
              "      <td>False</td>\n",
              "      <td>False</td>\n",
              "      <td>False</td>\n",
              "      <td>...</td>\n",
              "      <td>False</td>\n",
              "      <td>False</td>\n",
              "      <td>False</td>\n",
              "      <td>False</td>\n",
              "      <td>False</td>\n",
              "      <td>False</td>\n",
              "      <td>False</td>\n",
              "      <td>False</td>\n",
              "      <td>False</td>\n",
              "      <td>False</td>\n",
              "    </tr>\n",
              "    <tr>\n",
              "      <th>3</th>\n",
              "      <td>hypertensive disease</td>\n",
              "      <td>False</td>\n",
              "      <td>False</td>\n",
              "      <td>False</td>\n",
              "      <td>False</td>\n",
              "      <td>False</td>\n",
              "      <td>False</td>\n",
              "      <td>False</td>\n",
              "      <td>False</td>\n",
              "      <td>False</td>\n",
              "      <td>...</td>\n",
              "      <td>False</td>\n",
              "      <td>False</td>\n",
              "      <td>False</td>\n",
              "      <td>False</td>\n",
              "      <td>False</td>\n",
              "      <td>False</td>\n",
              "      <td>False</td>\n",
              "      <td>False</td>\n",
              "      <td>False</td>\n",
              "      <td>False</td>\n",
              "    </tr>\n",
              "    <tr>\n",
              "      <th>4</th>\n",
              "      <td>hypertensive disease</td>\n",
              "      <td>False</td>\n",
              "      <td>False</td>\n",
              "      <td>False</td>\n",
              "      <td>False</td>\n",
              "      <td>False</td>\n",
              "      <td>False</td>\n",
              "      <td>False</td>\n",
              "      <td>False</td>\n",
              "      <td>False</td>\n",
              "      <td>...</td>\n",
              "      <td>False</td>\n",
              "      <td>False</td>\n",
              "      <td>False</td>\n",
              "      <td>False</td>\n",
              "      <td>False</td>\n",
              "      <td>False</td>\n",
              "      <td>False</td>\n",
              "      <td>False</td>\n",
              "      <td>False</td>\n",
              "      <td>False</td>\n",
              "    </tr>\n",
              "  </tbody>\n",
              "</table>\n",
              "<p>5 rows × 405 columns</p>\n",
              "</div>"
            ],
            "text/plain": [
              "                 Source  Heberden's node  Murphy's sign  Stahli's line  \\\n",
              "0  hypertensive disease            False          False          False   \n",
              "1  hypertensive disease            False          False          False   \n",
              "2  hypertensive disease            False          False          False   \n",
              "3  hypertensive disease            False          False          False   \n",
              "4  hypertensive disease            False          False          False   \n",
              "\n",
              "   abdomen acute  abdominal bloating  abdominal tenderness  \\\n",
              "0          False               False                 False   \n",
              "1          False               False                 False   \n",
              "2          False               False                 False   \n",
              "3          False               False                 False   \n",
              "4          False               False                 False   \n",
              "\n",
              "   abnormal sensation  abnormally hard consistency  abortion  ...  \\\n",
              "0               False                        False     False  ...   \n",
              "1               False                        False     False  ...   \n",
              "2               False                        False     False  ...   \n",
              "3               False                        False     False  ...   \n",
              "4               False                        False     False  ...   \n",
              "\n",
              "   vision blurred  vomiting  weepiness  weight gain   welt  wheelchair bound  \\\n",
              "0           False     False      False        False  False             False   \n",
              "1           False     False      False        False  False             False   \n",
              "2           False     False      False        False  False             False   \n",
              "3           False     False      False        False  False             False   \n",
              "4           False     False      False        False  False             False   \n",
              "\n",
              "   wheezing  withdraw  worry  yellow sputum  \n",
              "0     False     False  False          False  \n",
              "1     False     False  False          False  \n",
              "2     False     False  False          False  \n",
              "3     False     False  False          False  \n",
              "4     False     False  False          False  \n",
              "\n",
              "[5 rows x 405 columns]"
            ]
          },
          "execution_count": 19,
          "metadata": {},
          "output_type": "execute_result"
        }
      ],
      "source": [
        "df_pivoted[:5]"
      ]
    },
    {
      "cell_type": "code",
      "execution_count": 20,
      "metadata": {
        "colab": {
          "base_uri": "https://localhost:8080/",
          "height": 35
        },
        "id": "bBy412fTEVkb",
        "outputId": "2e241c57-2967-407b-ee89-4512670dd967"
      },
      "outputs": [
        {
          "data": {
            "text/plain": [
              "2116"
            ]
          },
          "execution_count": 20,
          "metadata": {},
          "output_type": "execute_result"
        }
      ],
      "source": [
        "len(df_pivoted)"
      ]
    },
    {
      "cell_type": "code",
      "execution_count": 21,
      "metadata": {
        "id": "__oEX14hEacg"
      },
      "outputs": [],
      "source": [
        "cols = df_pivoted.columns"
      ]
    },
    {
      "cell_type": "code",
      "execution_count": 22,
      "metadata": {
        "id": "WZosY0EcEf0A"
      },
      "outputs": [],
      "source": [
        "cols = cols[1:] # removing headings"
      ]
    },
    {
      "cell_type": "code",
      "execution_count": 23,
      "metadata": {
        "colab": {
          "base_uri": "https://localhost:8080/",
          "height": 334
        },
        "id": "cq72GZf3Eija",
        "outputId": "1ba49d7d-4f12-44ef-e169-ea657d223cd8"
      },
      "outputs": [
        {
          "data": {
            "text/html": [
              "<div>\n",
              "<style scoped>\n",
              "    .dataframe tbody tr th:only-of-type {\n",
              "        vertical-align: middle;\n",
              "    }\n",
              "\n",
              "    .dataframe tbody tr th {\n",
              "        vertical-align: top;\n",
              "    }\n",
              "\n",
              "    .dataframe thead th {\n",
              "        text-align: right;\n",
              "    }\n",
              "</style>\n",
              "<table border=\"1\" class=\"dataframe\">\n",
              "  <thead>\n",
              "    <tr style=\"text-align: right;\">\n",
              "      <th></th>\n",
              "      <th>Source</th>\n",
              "      <th>Heberden's node</th>\n",
              "      <th>Murphy's sign</th>\n",
              "      <th>Stahli's line</th>\n",
              "      <th>abdomen acute</th>\n",
              "      <th>abdominal bloating</th>\n",
              "      <th>abdominal tenderness</th>\n",
              "      <th>abnormal sensation</th>\n",
              "      <th>abnormally hard consistency</th>\n",
              "      <th>abortion</th>\n",
              "      <th>...</th>\n",
              "      <th>vision blurred</th>\n",
              "      <th>vomiting</th>\n",
              "      <th>weepiness</th>\n",
              "      <th>weight gain</th>\n",
              "      <th>welt</th>\n",
              "      <th>wheelchair bound</th>\n",
              "      <th>wheezing</th>\n",
              "      <th>withdraw</th>\n",
              "      <th>worry</th>\n",
              "      <th>yellow sputum</th>\n",
              "    </tr>\n",
              "  </thead>\n",
              "  <tbody>\n",
              "    <tr>\n",
              "      <th>0</th>\n",
              "      <td>Alzheimer's disease</td>\n",
              "      <td>0</td>\n",
              "      <td>0</td>\n",
              "      <td>0</td>\n",
              "      <td>0</td>\n",
              "      <td>0</td>\n",
              "      <td>0</td>\n",
              "      <td>0</td>\n",
              "      <td>0</td>\n",
              "      <td>0</td>\n",
              "      <td>...</td>\n",
              "      <td>0</td>\n",
              "      <td>0</td>\n",
              "      <td>0</td>\n",
              "      <td>0</td>\n",
              "      <td>0</td>\n",
              "      <td>1</td>\n",
              "      <td>0</td>\n",
              "      <td>0</td>\n",
              "      <td>0</td>\n",
              "      <td>0</td>\n",
              "    </tr>\n",
              "    <tr>\n",
              "      <th>1</th>\n",
              "      <td>HIV</td>\n",
              "      <td>0</td>\n",
              "      <td>0</td>\n",
              "      <td>0</td>\n",
              "      <td>0</td>\n",
              "      <td>0</td>\n",
              "      <td>0</td>\n",
              "      <td>0</td>\n",
              "      <td>0</td>\n",
              "      <td>0</td>\n",
              "      <td>...</td>\n",
              "      <td>0</td>\n",
              "      <td>0</td>\n",
              "      <td>0</td>\n",
              "      <td>0</td>\n",
              "      <td>0</td>\n",
              "      <td>0</td>\n",
              "      <td>0</td>\n",
              "      <td>0</td>\n",
              "      <td>0</td>\n",
              "      <td>0</td>\n",
              "    </tr>\n",
              "    <tr>\n",
              "      <th>2</th>\n",
              "      <td>PneumocystisÃÂ cariniiÃÂ pneumonia</td>\n",
              "      <td>0</td>\n",
              "      <td>0</td>\n",
              "      <td>0</td>\n",
              "      <td>0</td>\n",
              "      <td>0</td>\n",
              "      <td>0</td>\n",
              "      <td>0</td>\n",
              "      <td>0</td>\n",
              "      <td>0</td>\n",
              "      <td>...</td>\n",
              "      <td>0</td>\n",
              "      <td>0</td>\n",
              "      <td>0</td>\n",
              "      <td>0</td>\n",
              "      <td>0</td>\n",
              "      <td>0</td>\n",
              "      <td>0</td>\n",
              "      <td>0</td>\n",
              "      <td>0</td>\n",
              "      <td>1</td>\n",
              "    </tr>\n",
              "    <tr>\n",
              "      <th>3</th>\n",
              "      <td>accidentÃÂ cerebrovascular</td>\n",
              "      <td>0</td>\n",
              "      <td>0</td>\n",
              "      <td>0</td>\n",
              "      <td>0</td>\n",
              "      <td>0</td>\n",
              "      <td>0</td>\n",
              "      <td>0</td>\n",
              "      <td>0</td>\n",
              "      <td>0</td>\n",
              "      <td>...</td>\n",
              "      <td>0</td>\n",
              "      <td>0</td>\n",
              "      <td>0</td>\n",
              "      <td>0</td>\n",
              "      <td>0</td>\n",
              "      <td>0</td>\n",
              "      <td>0</td>\n",
              "      <td>0</td>\n",
              "      <td>0</td>\n",
              "      <td>0</td>\n",
              "    </tr>\n",
              "    <tr>\n",
              "      <th>4</th>\n",
              "      <td>acquiredÃÂ immuno-deficiency syndrome</td>\n",
              "      <td>0</td>\n",
              "      <td>0</td>\n",
              "      <td>0</td>\n",
              "      <td>0</td>\n",
              "      <td>0</td>\n",
              "      <td>0</td>\n",
              "      <td>0</td>\n",
              "      <td>0</td>\n",
              "      <td>0</td>\n",
              "      <td>...</td>\n",
              "      <td>0</td>\n",
              "      <td>0</td>\n",
              "      <td>0</td>\n",
              "      <td>0</td>\n",
              "      <td>0</td>\n",
              "      <td>0</td>\n",
              "      <td>0</td>\n",
              "      <td>0</td>\n",
              "      <td>0</td>\n",
              "      <td>0</td>\n",
              "    </tr>\n",
              "    <tr>\n",
              "      <th>...</th>\n",
              "      <td>...</td>\n",
              "      <td>...</td>\n",
              "      <td>...</td>\n",
              "      <td>...</td>\n",
              "      <td>...</td>\n",
              "      <td>...</td>\n",
              "      <td>...</td>\n",
              "      <td>...</td>\n",
              "      <td>...</td>\n",
              "      <td>...</td>\n",
              "      <td>...</td>\n",
              "      <td>...</td>\n",
              "      <td>...</td>\n",
              "      <td>...</td>\n",
              "      <td>...</td>\n",
              "      <td>...</td>\n",
              "      <td>...</td>\n",
              "      <td>...</td>\n",
              "      <td>...</td>\n",
              "      <td>...</td>\n",
              "      <td>...</td>\n",
              "    </tr>\n",
              "    <tr>\n",
              "      <th>144</th>\n",
              "      <td>tonic-clonic seizures</td>\n",
              "      <td>0</td>\n",
              "      <td>0</td>\n",
              "      <td>0</td>\n",
              "      <td>0</td>\n",
              "      <td>0</td>\n",
              "      <td>0</td>\n",
              "      <td>0</td>\n",
              "      <td>0</td>\n",
              "      <td>0</td>\n",
              "      <td>...</td>\n",
              "      <td>0</td>\n",
              "      <td>0</td>\n",
              "      <td>0</td>\n",
              "      <td>0</td>\n",
              "      <td>0</td>\n",
              "      <td>0</td>\n",
              "      <td>0</td>\n",
              "      <td>0</td>\n",
              "      <td>0</td>\n",
              "      <td>0</td>\n",
              "    </tr>\n",
              "    <tr>\n",
              "      <th>145</th>\n",
              "      <td>transient ischemic attack</td>\n",
              "      <td>0</td>\n",
              "      <td>0</td>\n",
              "      <td>1</td>\n",
              "      <td>0</td>\n",
              "      <td>0</td>\n",
              "      <td>0</td>\n",
              "      <td>0</td>\n",
              "      <td>0</td>\n",
              "      <td>0</td>\n",
              "      <td>...</td>\n",
              "      <td>1</td>\n",
              "      <td>0</td>\n",
              "      <td>0</td>\n",
              "      <td>0</td>\n",
              "      <td>0</td>\n",
              "      <td>0</td>\n",
              "      <td>0</td>\n",
              "      <td>0</td>\n",
              "      <td>0</td>\n",
              "      <td>0</td>\n",
              "    </tr>\n",
              "    <tr>\n",
              "      <th>146</th>\n",
              "      <td>tricuspid valve insufficiency</td>\n",
              "      <td>0</td>\n",
              "      <td>0</td>\n",
              "      <td>0</td>\n",
              "      <td>0</td>\n",
              "      <td>0</td>\n",
              "      <td>0</td>\n",
              "      <td>0</td>\n",
              "      <td>0</td>\n",
              "      <td>0</td>\n",
              "      <td>...</td>\n",
              "      <td>0</td>\n",
              "      <td>1</td>\n",
              "      <td>0</td>\n",
              "      <td>0</td>\n",
              "      <td>0</td>\n",
              "      <td>0</td>\n",
              "      <td>0</td>\n",
              "      <td>0</td>\n",
              "      <td>0</td>\n",
              "      <td>0</td>\n",
              "    </tr>\n",
              "    <tr>\n",
              "      <th>147</th>\n",
              "      <td>ulcer peptic</td>\n",
              "      <td>0</td>\n",
              "      <td>0</td>\n",
              "      <td>0</td>\n",
              "      <td>0</td>\n",
              "      <td>0</td>\n",
              "      <td>0</td>\n",
              "      <td>0</td>\n",
              "      <td>0</td>\n",
              "      <td>0</td>\n",
              "      <td>...</td>\n",
              "      <td>0</td>\n",
              "      <td>1</td>\n",
              "      <td>0</td>\n",
              "      <td>0</td>\n",
              "      <td>0</td>\n",
              "      <td>0</td>\n",
              "      <td>0</td>\n",
              "      <td>0</td>\n",
              "      <td>0</td>\n",
              "      <td>0</td>\n",
              "    </tr>\n",
              "    <tr>\n",
              "      <th>148</th>\n",
              "      <td>upper respiratory infection</td>\n",
              "      <td>0</td>\n",
              "      <td>0</td>\n",
              "      <td>0</td>\n",
              "      <td>0</td>\n",
              "      <td>0</td>\n",
              "      <td>0</td>\n",
              "      <td>0</td>\n",
              "      <td>0</td>\n",
              "      <td>0</td>\n",
              "      <td>...</td>\n",
              "      <td>0</td>\n",
              "      <td>0</td>\n",
              "      <td>0</td>\n",
              "      <td>0</td>\n",
              "      <td>0</td>\n",
              "      <td>0</td>\n",
              "      <td>1</td>\n",
              "      <td>0</td>\n",
              "      <td>0</td>\n",
              "      <td>0</td>\n",
              "    </tr>\n",
              "  </tbody>\n",
              "</table>\n",
              "<p>149 rows × 405 columns</p>\n",
              "</div>"
            ],
            "text/plain": [
              "                                     Source  Heberden's node  Murphy's sign  \\\n",
              "0                       Alzheimer's disease                0              0   \n",
              "1                                       HIV                0              0   \n",
              "2      PneumocystisÃÂ cariniiÃÂ pneumonia                0              0   \n",
              "3               accidentÃÂ cerebrovascular                0              0   \n",
              "4    acquiredÃÂ immuno-deficiency syndrome                0              0   \n",
              "..                                      ...              ...            ...   \n",
              "144                   tonic-clonic seizures                0              0   \n",
              "145               transient ischemic attack                0              0   \n",
              "146           tricuspid valve insufficiency                0              0   \n",
              "147                            ulcer peptic                0              0   \n",
              "148             upper respiratory infection                0              0   \n",
              "\n",
              "     Stahli's line  abdomen acute  abdominal bloating  abdominal tenderness  \\\n",
              "0                0              0                   0                     0   \n",
              "1                0              0                   0                     0   \n",
              "2                0              0                   0                     0   \n",
              "3                0              0                   0                     0   \n",
              "4                0              0                   0                     0   \n",
              "..             ...            ...                 ...                   ...   \n",
              "144              0              0                   0                     0   \n",
              "145              1              0                   0                     0   \n",
              "146              0              0                   0                     0   \n",
              "147              0              0                   0                     0   \n",
              "148              0              0                   0                     0   \n",
              "\n",
              "     abnormal sensation  abnormally hard consistency  abortion  ...  \\\n",
              "0                     0                            0         0  ...   \n",
              "1                     0                            0         0  ...   \n",
              "2                     0                            0         0  ...   \n",
              "3                     0                            0         0  ...   \n",
              "4                     0                            0         0  ...   \n",
              "..                  ...                          ...       ...  ...   \n",
              "144                   0                            0         0  ...   \n",
              "145                   0                            0         0  ...   \n",
              "146                   0                            0         0  ...   \n",
              "147                   0                            0         0  ...   \n",
              "148                   0                            0         0  ...   \n",
              "\n",
              "     vision blurred  vomiting  weepiness  weight gain  welt  wheelchair bound  \\\n",
              "0                 0         0          0            0     0                 1   \n",
              "1                 0         0          0            0     0                 0   \n",
              "2                 0         0          0            0     0                 0   \n",
              "3                 0         0          0            0     0                 0   \n",
              "4                 0         0          0            0     0                 0   \n",
              "..              ...       ...        ...          ...   ...               ...   \n",
              "144               0         0          0            0     0                 0   \n",
              "145               1         0          0            0     0                 0   \n",
              "146               0         1          0            0     0                 0   \n",
              "147               0         1          0            0     0                 0   \n",
              "148               0         0          0            0     0                 0   \n",
              "\n",
              "     wheezing  withdraw  worry  yellow sputum  \n",
              "0           0         0      0              0  \n",
              "1           0         0      0              0  \n",
              "2           0         0      0              1  \n",
              "3           0         0      0              0  \n",
              "4           0         0      0              0  \n",
              "..        ...       ...    ...            ...  \n",
              "144         0         0      0              0  \n",
              "145         0         0      0              0  \n",
              "146         0         0      0              0  \n",
              "147         0         0      0              0  \n",
              "148         1         0      0              0  \n",
              "\n",
              "[149 rows x 405 columns]"
            ]
          },
          "execution_count": 23,
          "metadata": {},
          "output_type": "execute_result"
        }
      ],
      "source": [
        "# visualizing existance of symptoms for diseases\n",
        "df_pivoted = df_pivoted.groupby('Source').sum()\n",
        "df_pivoted = df_pivoted.reset_index()\n",
        "df_pivoted[:]"
      ]
    },
    {
      "cell_type": "markdown",
      "metadata": {},
      "source": []
    },
    {
      "cell_type": "code",
      "execution_count": 24,
      "metadata": {
        "colab": {
          "base_uri": "https://localhost:8080/",
          "height": 35
        },
        "id": "U_DgQ1OxEoE1",
        "outputId": "25d73c10-920c-4468-fbd6-1c2432f257f3"
      },
      "outputs": [
        {
          "data": {
            "text/plain": [
              "149"
            ]
          },
          "execution_count": 24,
          "metadata": {},
          "output_type": "execute_result"
        }
      ],
      "source": [
        "len(df_pivoted)"
      ]
    },
    {
      "cell_type": "code",
      "execution_count": 25,
      "metadata": {
        "id": "yU4zSCLFE5NI"
      },
      "outputs": [],
      "source": [
        "df_pivoted.to_csv(\"df_pivoted.csv\")"
      ]
    },
    {
      "cell_type": "code",
      "execution_count": 26,
      "metadata": {
        "id": "YyAY-4-TE7tL"
      },
      "outputs": [],
      "source": [
        "# defining data for training\n",
        "x = df_pivoted[cols]\n",
        "y = df_pivoted['Source']"
      ]
    },
    {
      "cell_type": "markdown",
      "metadata": {
        "id": "DJzSmNi3FHsG"
      },
      "source": [
        "##Building Model"
      ]
    },
    {
      "cell_type": "code",
      "execution_count": 27,
      "metadata": {
        "id": "Cp1gPnffFDMe"
      },
      "outputs": [],
      "source": [
        "# importing all needed libraries\n",
        "import pandas as pd\n",
        "import seaborn as sns\n",
        "import matplotlib.pyplot as plt\n",
        "%matplotlib inline\n",
        "from sklearn.naive_bayes import MultinomialNB\n",
        "from sklearn.model_selection import train_test_split"
      ]
    },
    {
      "cell_type": "code",
      "execution_count": 28,
      "metadata": {
        "id": "Kh-jIG37FQ8B"
      },
      "outputs": [],
      "source": [
        "# performing train test split\n",
        "x_train, x_test, y_train, y_test = train_test_split(x, y, test_size=0.33, random_state=42)"
      ]
    },
    {
      "cell_type": "code",
      "execution_count": 29,
      "metadata": {
        "id": "r_wGIbv9Ftux"
      },
      "outputs": [],
      "source": [
        "# Training multinomial naive bayes\n",
        "mnb = MultinomialNB()\n",
        "mnb = mnb.fit(x_train, y_train)"
      ]
    },
    {
      "cell_type": "code",
      "execution_count": 30,
      "metadata": {
        "colab": {
          "base_uri": "https://localhost:8080/",
          "height": 35
        },
        "id": "zButWKjWF4g3",
        "outputId": "25ca2472-3460-46d8-f3d8-e6e97cedd867"
      },
      "outputs": [
        {
          "data": {
            "text/plain": [
              "0.0"
            ]
          },
          "execution_count": 30,
          "metadata": {},
          "output_type": "execute_result"
        }
      ],
      "source": [
        "mnb.score(x_test, y_test)"
      ]
    },
    {
      "cell_type": "markdown",
      "metadata": {
        "id": "G2y_48I7GTgd"
      },
      "source": [
        "###Inferences on train and test split\n",
        "It can't work on unseen data because it has never seen that disease before. Also, there is only one point for each disease and hence no point for this. So we need to train the model entirely. Then what will we test it on? Missing data? Say given one symptom what is the disease? This is again multilabel classification. We can work symptom on symptom. What exactly is differential diagnosis, we need to replicate that."
      ]
    },
    {
      "cell_type": "code",
      "execution_count": 31,
      "metadata": {
        "id": "_WrE5QE_F7t-"
      },
      "outputs": [],
      "source": [
        "mnb_tot = MultinomialNB()\n",
        "mnb_tot = mnb_tot.fit(x, y)"
      ]
    },
    {
      "cell_type": "code",
      "execution_count": 32,
      "metadata": {
        "colab": {
          "base_uri": "https://localhost:8080/",
          "height": 35
        },
        "id": "OyiHXhUVGab8",
        "outputId": "b1cc88ff-dc40-4a01-9d5b-09fa2df6e9a8"
      },
      "outputs": [
        {
          "data": {
            "text/plain": [
              "0.8993288590604027"
            ]
          },
          "execution_count": 32,
          "metadata": {},
          "output_type": "execute_result"
        }
      ],
      "source": [
        "mnb_tot.score(x, y)"
      ]
    },
    {
      "cell_type": "code",
      "execution_count": 33,
      "metadata": {
        "id": "mh6ddAm_GcfJ"
      },
      "outputs": [],
      "source": [
        "disease_pred = mnb_tot.predict(x)"
      ]
    },
    {
      "cell_type": "code",
      "execution_count": 34,
      "metadata": {
        "id": "54bUDL6EGgLP"
      },
      "outputs": [],
      "source": [
        "disease_real = y.values"
      ]
    },
    {
      "cell_type": "code",
      "execution_count": 35,
      "metadata": {
        "colab": {
          "base_uri": "https://localhost:8080/",
          "height": 290
        },
        "id": "dxf_1YVDGjTS",
        "outputId": "6c43149e-90fb-442d-f66f-ae3eb3ba6787"
      },
      "outputs": [
        {
          "name": "stdout",
          "output_type": "stream",
          "text": [
            "Pred: HIV Actual:acquiredÃÂ immuno-deficiency syndrome\n",
            "Pred: biliary calculus Actual:cholelithiasis\n",
            "Pred: coronary arteriosclerosis Actual:coronary heart disease\n",
            "Pred: depression mental Actual:depressive disorder\n",
            "Pred: HIV Actual:hiv infections\n",
            "Pred: carcinoma breast Actual:malignant neoplasm of breast\n",
            "Pred: carcinoma of lung Actual:malignant neoplasm of lung\n",
            "Pred: carcinoma prostate Actual:malignant neoplasm of prostate\n",
            "Pred: carcinoma colon Actual:malignant tumor of colon\n",
            "Pred: candidiasis Actual:oralÃÂ candidiasis\n",
            "Pred: effusion pericardial Actual:pericardial effusion body substance\n",
            "Pred: malignant neoplasms Actual:primary malignant neoplasm\n",
            "Pred: sepsis (invertebrate) Actual:septicemia\n",
            "Pred: sepsis (invertebrate) Actual:systemic infection\n",
            "Pred: tonic-clonic epilepsy Actual:tonic-clonic seizures\n"
          ]
        }
      ],
      "source": [
        "# printing model error\n",
        "for i in range(0, len(disease_real)):\n",
        "    if disease_pred[i]!=disease_real[i]:\n",
        "        print ('Pred: {0} Actual:{1}'.format(disease_pred[i], disease_real[i]))"
      ]
    },
    {
      "cell_type": "markdown",
      "metadata": {
        "id": "t0nwHT9eGume"
      },
      "source": [
        "## Using decision trees"
      ]
    },
    {
      "cell_type": "code",
      "execution_count": 36,
      "metadata": {
        "id": "CE6W6rS4GpF5"
      },
      "outputs": [],
      "source": [
        "from sklearn.tree import DecisionTreeClassifier, export_graphviz"
      ]
    },
    {
      "cell_type": "code",
      "execution_count": 37,
      "metadata": {
        "colab": {
          "base_uri": "https://localhost:8080/",
          "height": 54
        },
        "id": "tkpzQWw-G3Fg",
        "outputId": "77b3c723-f7d9-472c-8e4c-64d8f44815ef"
      },
      "outputs": [
        {
          "name": "stdout",
          "output_type": "stream",
          "text": [
            "DecisionTree\n",
            "Acurracy:  0.8993288590604027\n"
          ]
        }
      ],
      "source": [
        "print (\"DecisionTree\")\n",
        "dt = DecisionTreeClassifier()\n",
        "clf_dt=dt.fit(x,y)\n",
        "print (\"Acurracy: \", clf_dt.score(x,y))"
      ]
    },
    {
      "cell_type": "code",
      "execution_count": 38,
      "metadata": {
        "id": "Qu08WE1BG5y9"
      },
      "outputs": [],
      "source": [
        "from sklearn import tree \n",
        "from sklearn.tree import export_graphviz\n",
        "\n",
        "export_graphviz(dt, \n",
        "                out_file='tree.jpg', \n",
        "                feature_names=cols\n",
        "               )"
      ]
    },
    {
      "cell_type": "code",
      "execution_count": 39,
      "metadata": {
        "colab": {
          "base_uri": "https://localhost:8080/",
          "height": 35
        },
        "id": "ZJggolzRG8jx",
        "outputId": "890a7793-9327-4e33-d00b-b260185fb9e6"
      },
      "outputs": [
        {
          "data": {
            "image/jpeg": "[encoded data removed]",
            "text/plain": [
              "<IPython.core.display.Image object>"
            ]
          },
          "execution_count": 39,
          "metadata": {},
          "output_type": "execute_result"
        }
      ],
      "source": [
        "from IPython.display import Image\n",
        "Image(filename='tree.jpg')"
      ]
    },
    {
      "cell_type": "markdown",
      "metadata": {
        "id": "cRZwOCyNI-Nd"
      },
      "source": [
        "##Manual Analysis data"
      ]
    },
    {
      "cell_type": "code",
      "execution_count": 40,
      "metadata": {
        "id": "FkP7fHffJsIc"
      },
      "outputs": [],
      "source": [
        "data = pd.read_csv(\"Datasets/Training.csv\")"
      ]
    },
    {
      "cell_type": "code",
      "execution_count": 41,
      "metadata": {
        "colab": {
          "base_uri": "https://localhost:8080/",
          "height": 351
        },
        "id": "9qEllCM6Lm7C",
        "outputId": "adb7bed4-1dbf-4fbe-d879-3cc609f3822c"
      },
      "outputs": [
        {
          "data": {
            "text/html": [
              "<div>\n",
              "<style scoped>\n",
              "    .dataframe tbody tr th:only-of-type {\n",
              "        vertical-align: middle;\n",
              "    }\n",
              "\n",
              "    .dataframe tbody tr th {\n",
              "        vertical-align: top;\n",
              "    }\n",
              "\n",
              "    .dataframe thead th {\n",
              "        text-align: right;\n",
              "    }\n",
              "</style>\n",
              "<table border=\"1\" class=\"dataframe\">\n",
              "  <thead>\n",
              "    <tr style=\"text-align: right;\">\n",
              "      <th></th>\n",
              "      <th>itching</th>\n",
              "      <th>skin_rash</th>\n",
              "      <th>nodal_skin_eruptions</th>\n",
              "      <th>continuous_sneezing</th>\n",
              "      <th>shivering</th>\n",
              "      <th>chills</th>\n",
              "      <th>joint_pain</th>\n",
              "      <th>stomach_pain</th>\n",
              "      <th>acidity</th>\n",
              "      <th>ulcers_on_tongue</th>\n",
              "      <th>...</th>\n",
              "      <th>blackheads</th>\n",
              "      <th>scurring</th>\n",
              "      <th>skin_peeling</th>\n",
              "      <th>silver_like_dusting</th>\n",
              "      <th>small_dents_in_nails</th>\n",
              "      <th>inflammatory_nails</th>\n",
              "      <th>blister</th>\n",
              "      <th>red_sore_around_nose</th>\n",
              "      <th>yellow_crust_ooze</th>\n",
              "      <th>prognosis</th>\n",
              "    </tr>\n",
              "  </thead>\n",
              "  <tbody>\n",
              "    <tr>\n",
              "      <th>0</th>\n",
              "      <td>1</td>\n",
              "      <td>1</td>\n",
              "      <td>1</td>\n",
              "      <td>0</td>\n",
              "      <td>0</td>\n",
              "      <td>0</td>\n",
              "      <td>0</td>\n",
              "      <td>0</td>\n",
              "      <td>0</td>\n",
              "      <td>0</td>\n",
              "      <td>...</td>\n",
              "      <td>0</td>\n",
              "      <td>0</td>\n",
              "      <td>0</td>\n",
              "      <td>0</td>\n",
              "      <td>0</td>\n",
              "      <td>0</td>\n",
              "      <td>0</td>\n",
              "      <td>0</td>\n",
              "      <td>0</td>\n",
              "      <td>Fungal infection</td>\n",
              "    </tr>\n",
              "    <tr>\n",
              "      <th>1</th>\n",
              "      <td>0</td>\n",
              "      <td>1</td>\n",
              "      <td>1</td>\n",
              "      <td>0</td>\n",
              "      <td>0</td>\n",
              "      <td>0</td>\n",
              "      <td>0</td>\n",
              "      <td>0</td>\n",
              "      <td>0</td>\n",
              "      <td>0</td>\n",
              "      <td>...</td>\n",
              "      <td>0</td>\n",
              "      <td>0</td>\n",
              "      <td>0</td>\n",
              "      <td>0</td>\n",
              "      <td>0</td>\n",
              "      <td>0</td>\n",
              "      <td>0</td>\n",
              "      <td>0</td>\n",
              "      <td>0</td>\n",
              "      <td>Fungal infection</td>\n",
              "    </tr>\n",
              "    <tr>\n",
              "      <th>2</th>\n",
              "      <td>1</td>\n",
              "      <td>0</td>\n",
              "      <td>1</td>\n",
              "      <td>0</td>\n",
              "      <td>0</td>\n",
              "      <td>0</td>\n",
              "      <td>0</td>\n",
              "      <td>0</td>\n",
              "      <td>0</td>\n",
              "      <td>0</td>\n",
              "      <td>...</td>\n",
              "      <td>0</td>\n",
              "      <td>0</td>\n",
              "      <td>0</td>\n",
              "      <td>0</td>\n",
              "      <td>0</td>\n",
              "      <td>0</td>\n",
              "      <td>0</td>\n",
              "      <td>0</td>\n",
              "      <td>0</td>\n",
              "      <td>Fungal infection</td>\n",
              "    </tr>\n",
              "    <tr>\n",
              "      <th>3</th>\n",
              "      <td>1</td>\n",
              "      <td>1</td>\n",
              "      <td>0</td>\n",
              "      <td>0</td>\n",
              "      <td>0</td>\n",
              "      <td>0</td>\n",
              "      <td>0</td>\n",
              "      <td>0</td>\n",
              "      <td>0</td>\n",
              "      <td>0</td>\n",
              "      <td>...</td>\n",
              "      <td>0</td>\n",
              "      <td>0</td>\n",
              "      <td>0</td>\n",
              "      <td>0</td>\n",
              "      <td>0</td>\n",
              "      <td>0</td>\n",
              "      <td>0</td>\n",
              "      <td>0</td>\n",
              "      <td>0</td>\n",
              "      <td>Fungal infection</td>\n",
              "    </tr>\n",
              "    <tr>\n",
              "      <th>4</th>\n",
              "      <td>1</td>\n",
              "      <td>1</td>\n",
              "      <td>1</td>\n",
              "      <td>0</td>\n",
              "      <td>0</td>\n",
              "      <td>0</td>\n",
              "      <td>0</td>\n",
              "      <td>0</td>\n",
              "      <td>0</td>\n",
              "      <td>0</td>\n",
              "      <td>...</td>\n",
              "      <td>0</td>\n",
              "      <td>0</td>\n",
              "      <td>0</td>\n",
              "      <td>0</td>\n",
              "      <td>0</td>\n",
              "      <td>0</td>\n",
              "      <td>0</td>\n",
              "      <td>0</td>\n",
              "      <td>0</td>\n",
              "      <td>Fungal infection</td>\n",
              "    </tr>\n",
              "  </tbody>\n",
              "</table>\n",
              "<p>5 rows × 133 columns</p>\n",
              "</div>"
            ],
            "text/plain": [
              "   itching  skin_rash  nodal_skin_eruptions  continuous_sneezing  shivering  \\\n",
              "0        1          1                     1                    0          0   \n",
              "1        0          1                     1                    0          0   \n",
              "2        1          0                     1                    0          0   \n",
              "3        1          1                     0                    0          0   \n",
              "4        1          1                     1                    0          0   \n",
              "\n",
              "   chills  joint_pain  stomach_pain  acidity  ulcers_on_tongue  ...  \\\n",
              "0       0           0             0        0                 0  ...   \n",
              "1       0           0             0        0                 0  ...   \n",
              "2       0           0             0        0                 0  ...   \n",
              "3       0           0             0        0                 0  ...   \n",
              "4       0           0             0        0                 0  ...   \n",
              "\n",
              "   blackheads  scurring  skin_peeling  silver_like_dusting  \\\n",
              "0           0         0             0                    0   \n",
              "1           0         0             0                    0   \n",
              "2           0         0             0                    0   \n",
              "3           0         0             0                    0   \n",
              "4           0         0             0                    0   \n",
              "\n",
              "   small_dents_in_nails  inflammatory_nails  blister  red_sore_around_nose  \\\n",
              "0                     0                   0        0                     0   \n",
              "1                     0                   0        0                     0   \n",
              "2                     0                   0        0                     0   \n",
              "3                     0                   0        0                     0   \n",
              "4                     0                   0        0                     0   \n",
              "\n",
              "   yellow_crust_ooze         prognosis  \n",
              "0                  0  Fungal infection  \n",
              "1                  0  Fungal infection  \n",
              "2                  0  Fungal infection  \n",
              "3                  0  Fungal infection  \n",
              "4                  0  Fungal infection  \n",
              "\n",
              "[5 rows x 133 columns]"
            ]
          },
          "execution_count": 41,
          "metadata": {},
          "output_type": "execute_result"
        }
      ],
      "source": [
        "data.head()"
      ]
    },
    {
      "cell_type": "code",
      "execution_count": 42,
      "metadata": {
        "colab": {
          "base_uri": "https://localhost:8080/",
          "height": 163
        },
        "id": "Ozo7akdyLrOT",
        "outputId": "3364293f-9e2e-4ac7-9325-cdd6a8dac907"
      },
      "outputs": [
        {
          "data": {
            "text/plain": [
              "Index(['itching', 'skin_rash', 'nodal_skin_eruptions', 'continuous_sneezing',\n",
              "       'shivering', 'chills', 'joint_pain', 'stomach_pain', 'acidity',\n",
              "       'ulcers_on_tongue',\n",
              "       ...\n",
              "       'blackheads', 'scurring', 'skin_peeling', 'silver_like_dusting',\n",
              "       'small_dents_in_nails', 'inflammatory_nails', 'blister',\n",
              "       'red_sore_around_nose', 'yellow_crust_ooze', 'prognosis'],\n",
              "      dtype='object', length=133)"
            ]
          },
          "execution_count": 42,
          "metadata": {},
          "output_type": "execute_result"
        }
      ],
      "source": [
        "data.columns"
      ]
    },
    {
      "cell_type": "code",
      "execution_count": 43,
      "metadata": {
        "colab": {
          "base_uri": "https://localhost:8080/",
          "height": 35
        },
        "id": "XuZDja5rLuaH",
        "outputId": "3d0a8f2d-78e8-41d5-c725-4a7568050b6e"
      },
      "outputs": [
        {
          "data": {
            "text/plain": [
              "133"
            ]
          },
          "execution_count": 43,
          "metadata": {},
          "output_type": "execute_result"
        }
      ],
      "source": [
        "len(data.columns)"
      ]
    },
    {
      "cell_type": "code",
      "execution_count": 44,
      "metadata": {
        "colab": {
          "base_uri": "https://localhost:8080/",
          "height": 35
        },
        "id": "AYnsuxj0Lw5-",
        "outputId": "a9dedf37-7960-4161-a7f2-05092e7fa1f0"
      },
      "outputs": [
        {
          "data": {
            "text/plain": [
              "41"
            ]
          },
          "execution_count": 44,
          "metadata": {},
          "output_type": "execute_result"
        }
      ],
      "source": [
        "len(data['prognosis'].unique())"
      ]
    },
    {
      "cell_type": "code",
      "execution_count": 45,
      "metadata": {
        "id": "GF3wf04gLzaQ"
      },
      "outputs": [],
      "source": [
        "df = pd.DataFrame(data)"
      ]
    },
    {
      "cell_type": "code",
      "execution_count": 46,
      "metadata": {
        "colab": {
          "base_uri": "https://localhost:8080/",
          "height": 351
        },
        "id": "jpPVtO0UL1-X",
        "outputId": "bb9c6a69-abd1-419a-e87b-a5883d22b07a"
      },
      "outputs": [
        {
          "data": {
            "text/html": [
              "<div>\n",
              "<style scoped>\n",
              "    .dataframe tbody tr th:only-of-type {\n",
              "        vertical-align: middle;\n",
              "    }\n",
              "\n",
              "    .dataframe tbody tr th {\n",
              "        vertical-align: top;\n",
              "    }\n",
              "\n",
              "    .dataframe thead th {\n",
              "        text-align: right;\n",
              "    }\n",
              "</style>\n",
              "<table border=\"1\" class=\"dataframe\">\n",
              "  <thead>\n",
              "    <tr style=\"text-align: right;\">\n",
              "      <th></th>\n",
              "      <th>itching</th>\n",
              "      <th>skin_rash</th>\n",
              "      <th>nodal_skin_eruptions</th>\n",
              "      <th>continuous_sneezing</th>\n",
              "      <th>shivering</th>\n",
              "      <th>chills</th>\n",
              "      <th>joint_pain</th>\n",
              "      <th>stomach_pain</th>\n",
              "      <th>acidity</th>\n",
              "      <th>ulcers_on_tongue</th>\n",
              "      <th>...</th>\n",
              "      <th>blackheads</th>\n",
              "      <th>scurring</th>\n",
              "      <th>skin_peeling</th>\n",
              "      <th>silver_like_dusting</th>\n",
              "      <th>small_dents_in_nails</th>\n",
              "      <th>inflammatory_nails</th>\n",
              "      <th>blister</th>\n",
              "      <th>red_sore_around_nose</th>\n",
              "      <th>yellow_crust_ooze</th>\n",
              "      <th>prognosis</th>\n",
              "    </tr>\n",
              "  </thead>\n",
              "  <tbody>\n",
              "    <tr>\n",
              "      <th>0</th>\n",
              "      <td>1</td>\n",
              "      <td>1</td>\n",
              "      <td>1</td>\n",
              "      <td>0</td>\n",
              "      <td>0</td>\n",
              "      <td>0</td>\n",
              "      <td>0</td>\n",
              "      <td>0</td>\n",
              "      <td>0</td>\n",
              "      <td>0</td>\n",
              "      <td>...</td>\n",
              "      <td>0</td>\n",
              "      <td>0</td>\n",
              "      <td>0</td>\n",
              "      <td>0</td>\n",
              "      <td>0</td>\n",
              "      <td>0</td>\n",
              "      <td>0</td>\n",
              "      <td>0</td>\n",
              "      <td>0</td>\n",
              "      <td>Fungal infection</td>\n",
              "    </tr>\n",
              "    <tr>\n",
              "      <th>1</th>\n",
              "      <td>0</td>\n",
              "      <td>1</td>\n",
              "      <td>1</td>\n",
              "      <td>0</td>\n",
              "      <td>0</td>\n",
              "      <td>0</td>\n",
              "      <td>0</td>\n",
              "      <td>0</td>\n",
              "      <td>0</td>\n",
              "      <td>0</td>\n",
              "      <td>...</td>\n",
              "      <td>0</td>\n",
              "      <td>0</td>\n",
              "      <td>0</td>\n",
              "      <td>0</td>\n",
              "      <td>0</td>\n",
              "      <td>0</td>\n",
              "      <td>0</td>\n",
              "      <td>0</td>\n",
              "      <td>0</td>\n",
              "      <td>Fungal infection</td>\n",
              "    </tr>\n",
              "    <tr>\n",
              "      <th>2</th>\n",
              "      <td>1</td>\n",
              "      <td>0</td>\n",
              "      <td>1</td>\n",
              "      <td>0</td>\n",
              "      <td>0</td>\n",
              "      <td>0</td>\n",
              "      <td>0</td>\n",
              "      <td>0</td>\n",
              "      <td>0</td>\n",
              "      <td>0</td>\n",
              "      <td>...</td>\n",
              "      <td>0</td>\n",
              "      <td>0</td>\n",
              "      <td>0</td>\n",
              "      <td>0</td>\n",
              "      <td>0</td>\n",
              "      <td>0</td>\n",
              "      <td>0</td>\n",
              "      <td>0</td>\n",
              "      <td>0</td>\n",
              "      <td>Fungal infection</td>\n",
              "    </tr>\n",
              "    <tr>\n",
              "      <th>3</th>\n",
              "      <td>1</td>\n",
              "      <td>1</td>\n",
              "      <td>0</td>\n",
              "      <td>0</td>\n",
              "      <td>0</td>\n",
              "      <td>0</td>\n",
              "      <td>0</td>\n",
              "      <td>0</td>\n",
              "      <td>0</td>\n",
              "      <td>0</td>\n",
              "      <td>...</td>\n",
              "      <td>0</td>\n",
              "      <td>0</td>\n",
              "      <td>0</td>\n",
              "      <td>0</td>\n",
              "      <td>0</td>\n",
              "      <td>0</td>\n",
              "      <td>0</td>\n",
              "      <td>0</td>\n",
              "      <td>0</td>\n",
              "      <td>Fungal infection</td>\n",
              "    </tr>\n",
              "    <tr>\n",
              "      <th>4</th>\n",
              "      <td>1</td>\n",
              "      <td>1</td>\n",
              "      <td>1</td>\n",
              "      <td>0</td>\n",
              "      <td>0</td>\n",
              "      <td>0</td>\n",
              "      <td>0</td>\n",
              "      <td>0</td>\n",
              "      <td>0</td>\n",
              "      <td>0</td>\n",
              "      <td>...</td>\n",
              "      <td>0</td>\n",
              "      <td>0</td>\n",
              "      <td>0</td>\n",
              "      <td>0</td>\n",
              "      <td>0</td>\n",
              "      <td>0</td>\n",
              "      <td>0</td>\n",
              "      <td>0</td>\n",
              "      <td>0</td>\n",
              "      <td>Fungal infection</td>\n",
              "    </tr>\n",
              "  </tbody>\n",
              "</table>\n",
              "<p>5 rows × 133 columns</p>\n",
              "</div>"
            ],
            "text/plain": [
              "   itching  skin_rash  nodal_skin_eruptions  continuous_sneezing  shivering  \\\n",
              "0        1          1                     1                    0          0   \n",
              "1        0          1                     1                    0          0   \n",
              "2        1          0                     1                    0          0   \n",
              "3        1          1                     0                    0          0   \n",
              "4        1          1                     1                    0          0   \n",
              "\n",
              "   chills  joint_pain  stomach_pain  acidity  ulcers_on_tongue  ...  \\\n",
              "0       0           0             0        0                 0  ...   \n",
              "1       0           0             0        0                 0  ...   \n",
              "2       0           0             0        0                 0  ...   \n",
              "3       0           0             0        0                 0  ...   \n",
              "4       0           0             0        0                 0  ...   \n",
              "\n",
              "   blackheads  scurring  skin_peeling  silver_like_dusting  \\\n",
              "0           0         0             0                    0   \n",
              "1           0         0             0                    0   \n",
              "2           0         0             0                    0   \n",
              "3           0         0             0                    0   \n",
              "4           0         0             0                    0   \n",
              "\n",
              "   small_dents_in_nails  inflammatory_nails  blister  red_sore_around_nose  \\\n",
              "0                     0                   0        0                     0   \n",
              "1                     0                   0        0                     0   \n",
              "2                     0                   0        0                     0   \n",
              "3                     0                   0        0                     0   \n",
              "4                     0                   0        0                     0   \n",
              "\n",
              "   yellow_crust_ooze         prognosis  \n",
              "0                  0  Fungal infection  \n",
              "1                  0  Fungal infection  \n",
              "2                  0  Fungal infection  \n",
              "3                  0  Fungal infection  \n",
              "4                  0  Fungal infection  \n",
              "\n",
              "[5 rows x 133 columns]"
            ]
          },
          "execution_count": 46,
          "metadata": {},
          "output_type": "execute_result"
        }
      ],
      "source": [
        "df.head()"
      ]
    },
    {
      "cell_type": "code",
      "execution_count": 47,
      "metadata": {
        "colab": {
          "base_uri": "https://localhost:8080/",
          "height": 35
        },
        "id": "_9-PKm0LL3xp",
        "outputId": "f0857e43-35c5-4675-f138-8fa725046c5f"
      },
      "outputs": [
        {
          "data": {
            "text/plain": [
              "4920"
            ]
          },
          "execution_count": 47,
          "metadata": {},
          "output_type": "execute_result"
        }
      ],
      "source": [
        "len(df)"
      ]
    },
    {
      "cell_type": "code",
      "execution_count": 48,
      "metadata": {
        "id": "V-X62yy-L59H"
      },
      "outputs": [],
      "source": [
        "cols = df.columns"
      ]
    },
    {
      "cell_type": "code",
      "execution_count": 49,
      "metadata": {
        "id": "1KbOK911L8QY"
      },
      "outputs": [],
      "source": [
        "cols = cols[:-1]"
      ]
    },
    {
      "cell_type": "code",
      "execution_count": 50,
      "metadata": {
        "colab": {
          "base_uri": "https://localhost:8080/",
          "height": 35
        },
        "id": "_Dh6fSVdL_BQ",
        "outputId": "800690e8-ad76-47c3-b0d5-239207826343"
      },
      "outputs": [
        {
          "data": {
            "text/plain": [
              "132"
            ]
          },
          "execution_count": 50,
          "metadata": {},
          "output_type": "execute_result"
        }
      ],
      "source": [
        "len(cols)"
      ]
    },
    {
      "cell_type": "code",
      "execution_count": 51,
      "metadata": {
        "id": "3XDM6NjAMA0m"
      },
      "outputs": [],
      "source": [
        "x = df[cols]\n",
        "y = df['prognosis']"
      ]
    },
    {
      "cell_type": "code",
      "execution_count": 52,
      "metadata": {
        "colab": {
          "base_uri": "https://localhost:8080/",
          "height": 445
        },
        "id": "Dk5Z56oNMHB0",
        "outputId": "dfd980bf-8c49-4fb2-b8ae-414c5600f0fe"
      },
      "outputs": [
        {
          "data": {
            "text/html": [
              "<div>\n",
              "<style scoped>\n",
              "    .dataframe tbody tr th:only-of-type {\n",
              "        vertical-align: middle;\n",
              "    }\n",
              "\n",
              "    .dataframe tbody tr th {\n",
              "        vertical-align: top;\n",
              "    }\n",
              "\n",
              "    .dataframe thead th {\n",
              "        text-align: right;\n",
              "    }\n",
              "</style>\n",
              "<table border=\"1\" class=\"dataframe\">\n",
              "  <thead>\n",
              "    <tr style=\"text-align: right;\">\n",
              "      <th></th>\n",
              "      <th>itching</th>\n",
              "      <th>skin_rash</th>\n",
              "      <th>nodal_skin_eruptions</th>\n",
              "      <th>continuous_sneezing</th>\n",
              "      <th>shivering</th>\n",
              "      <th>chills</th>\n",
              "      <th>joint_pain</th>\n",
              "      <th>stomach_pain</th>\n",
              "      <th>acidity</th>\n",
              "      <th>ulcers_on_tongue</th>\n",
              "      <th>...</th>\n",
              "      <th>pus_filled_pimples</th>\n",
              "      <th>blackheads</th>\n",
              "      <th>scurring</th>\n",
              "      <th>skin_peeling</th>\n",
              "      <th>silver_like_dusting</th>\n",
              "      <th>small_dents_in_nails</th>\n",
              "      <th>inflammatory_nails</th>\n",
              "      <th>blister</th>\n",
              "      <th>red_sore_around_nose</th>\n",
              "      <th>yellow_crust_ooze</th>\n",
              "    </tr>\n",
              "  </thead>\n",
              "  <tbody>\n",
              "    <tr>\n",
              "      <th>0</th>\n",
              "      <td>1</td>\n",
              "      <td>1</td>\n",
              "      <td>1</td>\n",
              "      <td>0</td>\n",
              "      <td>0</td>\n",
              "      <td>0</td>\n",
              "      <td>0</td>\n",
              "      <td>0</td>\n",
              "      <td>0</td>\n",
              "      <td>0</td>\n",
              "      <td>...</td>\n",
              "      <td>0</td>\n",
              "      <td>0</td>\n",
              "      <td>0</td>\n",
              "      <td>0</td>\n",
              "      <td>0</td>\n",
              "      <td>0</td>\n",
              "      <td>0</td>\n",
              "      <td>0</td>\n",
              "      <td>0</td>\n",
              "      <td>0</td>\n",
              "    </tr>\n",
              "    <tr>\n",
              "      <th>1</th>\n",
              "      <td>0</td>\n",
              "      <td>1</td>\n",
              "      <td>1</td>\n",
              "      <td>0</td>\n",
              "      <td>0</td>\n",
              "      <td>0</td>\n",
              "      <td>0</td>\n",
              "      <td>0</td>\n",
              "      <td>0</td>\n",
              "      <td>0</td>\n",
              "      <td>...</td>\n",
              "      <td>0</td>\n",
              "      <td>0</td>\n",
              "      <td>0</td>\n",
              "      <td>0</td>\n",
              "      <td>0</td>\n",
              "      <td>0</td>\n",
              "      <td>0</td>\n",
              "      <td>0</td>\n",
              "      <td>0</td>\n",
              "      <td>0</td>\n",
              "    </tr>\n",
              "    <tr>\n",
              "      <th>2</th>\n",
              "      <td>1</td>\n",
              "      <td>0</td>\n",
              "      <td>1</td>\n",
              "      <td>0</td>\n",
              "      <td>0</td>\n",
              "      <td>0</td>\n",
              "      <td>0</td>\n",
              "      <td>0</td>\n",
              "      <td>0</td>\n",
              "      <td>0</td>\n",
              "      <td>...</td>\n",
              "      <td>0</td>\n",
              "      <td>0</td>\n",
              "      <td>0</td>\n",
              "      <td>0</td>\n",
              "      <td>0</td>\n",
              "      <td>0</td>\n",
              "      <td>0</td>\n",
              "      <td>0</td>\n",
              "      <td>0</td>\n",
              "      <td>0</td>\n",
              "    </tr>\n",
              "    <tr>\n",
              "      <th>3</th>\n",
              "      <td>1</td>\n",
              "      <td>1</td>\n",
              "      <td>0</td>\n",
              "      <td>0</td>\n",
              "      <td>0</td>\n",
              "      <td>0</td>\n",
              "      <td>0</td>\n",
              "      <td>0</td>\n",
              "      <td>0</td>\n",
              "      <td>0</td>\n",
              "      <td>...</td>\n",
              "      <td>0</td>\n",
              "      <td>0</td>\n",
              "      <td>0</td>\n",
              "      <td>0</td>\n",
              "      <td>0</td>\n",
              "      <td>0</td>\n",
              "      <td>0</td>\n",
              "      <td>0</td>\n",
              "      <td>0</td>\n",
              "      <td>0</td>\n",
              "    </tr>\n",
              "    <tr>\n",
              "      <th>4</th>\n",
              "      <td>1</td>\n",
              "      <td>1</td>\n",
              "      <td>1</td>\n",
              "      <td>0</td>\n",
              "      <td>0</td>\n",
              "      <td>0</td>\n",
              "      <td>0</td>\n",
              "      <td>0</td>\n",
              "      <td>0</td>\n",
              "      <td>0</td>\n",
              "      <td>...</td>\n",
              "      <td>0</td>\n",
              "      <td>0</td>\n",
              "      <td>0</td>\n",
              "      <td>0</td>\n",
              "      <td>0</td>\n",
              "      <td>0</td>\n",
              "      <td>0</td>\n",
              "      <td>0</td>\n",
              "      <td>0</td>\n",
              "      <td>0</td>\n",
              "    </tr>\n",
              "    <tr>\n",
              "      <th>...</th>\n",
              "      <td>...</td>\n",
              "      <td>...</td>\n",
              "      <td>...</td>\n",
              "      <td>...</td>\n",
              "      <td>...</td>\n",
              "      <td>...</td>\n",
              "      <td>...</td>\n",
              "      <td>...</td>\n",
              "      <td>...</td>\n",
              "      <td>...</td>\n",
              "      <td>...</td>\n",
              "      <td>...</td>\n",
              "      <td>...</td>\n",
              "      <td>...</td>\n",
              "      <td>...</td>\n",
              "      <td>...</td>\n",
              "      <td>...</td>\n",
              "      <td>...</td>\n",
              "      <td>...</td>\n",
              "      <td>...</td>\n",
              "      <td>...</td>\n",
              "    </tr>\n",
              "    <tr>\n",
              "      <th>4915</th>\n",
              "      <td>0</td>\n",
              "      <td>0</td>\n",
              "      <td>0</td>\n",
              "      <td>0</td>\n",
              "      <td>0</td>\n",
              "      <td>0</td>\n",
              "      <td>0</td>\n",
              "      <td>0</td>\n",
              "      <td>0</td>\n",
              "      <td>0</td>\n",
              "      <td>...</td>\n",
              "      <td>0</td>\n",
              "      <td>0</td>\n",
              "      <td>0</td>\n",
              "      <td>0</td>\n",
              "      <td>0</td>\n",
              "      <td>0</td>\n",
              "      <td>0</td>\n",
              "      <td>0</td>\n",
              "      <td>0</td>\n",
              "      <td>0</td>\n",
              "    </tr>\n",
              "    <tr>\n",
              "      <th>4916</th>\n",
              "      <td>0</td>\n",
              "      <td>1</td>\n",
              "      <td>0</td>\n",
              "      <td>0</td>\n",
              "      <td>0</td>\n",
              "      <td>0</td>\n",
              "      <td>0</td>\n",
              "      <td>0</td>\n",
              "      <td>0</td>\n",
              "      <td>0</td>\n",
              "      <td>...</td>\n",
              "      <td>1</td>\n",
              "      <td>1</td>\n",
              "      <td>1</td>\n",
              "      <td>0</td>\n",
              "      <td>0</td>\n",
              "      <td>0</td>\n",
              "      <td>0</td>\n",
              "      <td>0</td>\n",
              "      <td>0</td>\n",
              "      <td>0</td>\n",
              "    </tr>\n",
              "    <tr>\n",
              "      <th>4917</th>\n",
              "      <td>0</td>\n",
              "      <td>0</td>\n",
              "      <td>0</td>\n",
              "      <td>0</td>\n",
              "      <td>0</td>\n",
              "      <td>0</td>\n",
              "      <td>0</td>\n",
              "      <td>0</td>\n",
              "      <td>0</td>\n",
              "      <td>0</td>\n",
              "      <td>...</td>\n",
              "      <td>0</td>\n",
              "      <td>0</td>\n",
              "      <td>0</td>\n",
              "      <td>0</td>\n",
              "      <td>0</td>\n",
              "      <td>0</td>\n",
              "      <td>0</td>\n",
              "      <td>0</td>\n",
              "      <td>0</td>\n",
              "      <td>0</td>\n",
              "    </tr>\n",
              "    <tr>\n",
              "      <th>4918</th>\n",
              "      <td>0</td>\n",
              "      <td>1</td>\n",
              "      <td>0</td>\n",
              "      <td>0</td>\n",
              "      <td>0</td>\n",
              "      <td>0</td>\n",
              "      <td>1</td>\n",
              "      <td>0</td>\n",
              "      <td>0</td>\n",
              "      <td>0</td>\n",
              "      <td>...</td>\n",
              "      <td>0</td>\n",
              "      <td>0</td>\n",
              "      <td>0</td>\n",
              "      <td>1</td>\n",
              "      <td>1</td>\n",
              "      <td>1</td>\n",
              "      <td>1</td>\n",
              "      <td>0</td>\n",
              "      <td>0</td>\n",
              "      <td>0</td>\n",
              "    </tr>\n",
              "    <tr>\n",
              "      <th>4919</th>\n",
              "      <td>0</td>\n",
              "      <td>1</td>\n",
              "      <td>0</td>\n",
              "      <td>0</td>\n",
              "      <td>0</td>\n",
              "      <td>0</td>\n",
              "      <td>0</td>\n",
              "      <td>0</td>\n",
              "      <td>0</td>\n",
              "      <td>0</td>\n",
              "      <td>...</td>\n",
              "      <td>0</td>\n",
              "      <td>0</td>\n",
              "      <td>0</td>\n",
              "      <td>0</td>\n",
              "      <td>0</td>\n",
              "      <td>0</td>\n",
              "      <td>0</td>\n",
              "      <td>1</td>\n",
              "      <td>1</td>\n",
              "      <td>1</td>\n",
              "    </tr>\n",
              "  </tbody>\n",
              "</table>\n",
              "<p>4920 rows × 132 columns</p>\n",
              "</div>"
            ],
            "text/plain": [
              "      itching  skin_rash  nodal_skin_eruptions  continuous_sneezing  \\\n",
              "0           1          1                     1                    0   \n",
              "1           0          1                     1                    0   \n",
              "2           1          0                     1                    0   \n",
              "3           1          1                     0                    0   \n",
              "4           1          1                     1                    0   \n",
              "...       ...        ...                   ...                  ...   \n",
              "4915        0          0                     0                    0   \n",
              "4916        0          1                     0                    0   \n",
              "4917        0          0                     0                    0   \n",
              "4918        0          1                     0                    0   \n",
              "4919        0          1                     0                    0   \n",
              "\n",
              "      shivering  chills  joint_pain  stomach_pain  acidity  ulcers_on_tongue  \\\n",
              "0             0       0           0             0        0                 0   \n",
              "1             0       0           0             0        0                 0   \n",
              "2             0       0           0             0        0                 0   \n",
              "3             0       0           0             0        0                 0   \n",
              "4             0       0           0             0        0                 0   \n",
              "...         ...     ...         ...           ...      ...               ...   \n",
              "4915          0       0           0             0        0                 0   \n",
              "4916          0       0           0             0        0                 0   \n",
              "4917          0       0           0             0        0                 0   \n",
              "4918          0       0           1             0        0                 0   \n",
              "4919          0       0           0             0        0                 0   \n",
              "\n",
              "      ...  pus_filled_pimples  blackheads  scurring  skin_peeling  \\\n",
              "0     ...                   0           0         0             0   \n",
              "1     ...                   0           0         0             0   \n",
              "2     ...                   0           0         0             0   \n",
              "3     ...                   0           0         0             0   \n",
              "4     ...                   0           0         0             0   \n",
              "...   ...                 ...         ...       ...           ...   \n",
              "4915  ...                   0           0         0             0   \n",
              "4916  ...                   1           1         1             0   \n",
              "4917  ...                   0           0         0             0   \n",
              "4918  ...                   0           0         0             1   \n",
              "4919  ...                   0           0         0             0   \n",
              "\n",
              "      silver_like_dusting  small_dents_in_nails  inflammatory_nails  blister  \\\n",
              "0                       0                     0                   0        0   \n",
              "1                       0                     0                   0        0   \n",
              "2                       0                     0                   0        0   \n",
              "3                       0                     0                   0        0   \n",
              "4                       0                     0                   0        0   \n",
              "...                   ...                   ...                 ...      ...   \n",
              "4915                    0                     0                   0        0   \n",
              "4916                    0                     0                   0        0   \n",
              "4917                    0                     0                   0        0   \n",
              "4918                    1                     1                   1        0   \n",
              "4919                    0                     0                   0        1   \n",
              "\n",
              "      red_sore_around_nose  yellow_crust_ooze  \n",
              "0                        0                  0  \n",
              "1                        0                  0  \n",
              "2                        0                  0  \n",
              "3                        0                  0  \n",
              "4                        0                  0  \n",
              "...                    ...                ...  \n",
              "4915                     0                  0  \n",
              "4916                     0                  0  \n",
              "4917                     0                  0  \n",
              "4918                     0                  0  \n",
              "4919                     1                  1  \n",
              "\n",
              "[4920 rows x 132 columns]"
            ]
          },
          "execution_count": 52,
          "metadata": {},
          "output_type": "execute_result"
        }
      ],
      "source": [
        "x"
      ]
    },
    {
      "cell_type": "code",
      "execution_count": 53,
      "metadata": {
        "colab": {
          "base_uri": "https://localhost:8080/",
          "height": 235
        },
        "id": "Xu5ANhjcMIJO",
        "outputId": "3a026e86-387c-44ac-e6e0-f5a799a98523"
      },
      "outputs": [
        {
          "data": {
            "text/plain": [
              "0                              Fungal infection\n",
              "1                              Fungal infection\n",
              "2                              Fungal infection\n",
              "3                              Fungal infection\n",
              "4                              Fungal infection\n",
              "                         ...                   \n",
              "4915    (vertigo) Paroymsal  Positional Vertigo\n",
              "4916                                       Acne\n",
              "4917                    Urinary tract infection\n",
              "4918                                  Psoriasis\n",
              "4919                                   Impetigo\n",
              "Name: prognosis, Length: 4920, dtype: object"
            ]
          },
          "execution_count": 53,
          "metadata": {},
          "output_type": "execute_result"
        }
      ],
      "source": [
        "y"
      ]
    },
    {
      "cell_type": "markdown",
      "metadata": {
        "id": "IuaLxhtOMQxx"
      },
      "source": [
        "## Building Classifier: Using Multinomial Naive Bayes"
      ]
    },
    {
      "cell_type": "code",
      "execution_count": 54,
      "metadata": {
        "id": "gXhWhwweMJIH"
      },
      "outputs": [],
      "source": [
        "x_train, x_test, y_train, y_test = train_test_split(x, y, test_size=0.33, random_state=42)"
      ]
    },
    {
      "cell_type": "code",
      "execution_count": 55,
      "metadata": {
        "id": "H-3AOTBxgqxd"
      },
      "outputs": [],
      "source": [
        "mnb = MultinomialNB()\n",
        "mnb = mnb.fit(x_train, y_train)"
      ]
    },
    {
      "cell_type": "code",
      "execution_count": 56,
      "metadata": {
        "colab": {
          "base_uri": "https://localhost:8080/",
          "height": 35
        },
        "id": "Jz7UHIMzgtiE",
        "outputId": "2e3664c8-2c3f-4fa5-ddff-fcc0131c80b8"
      },
      "outputs": [
        {
          "data": {
            "text/plain": [
              "1.0"
            ]
          },
          "execution_count": 56,
          "metadata": {},
          "output_type": "execute_result"
        }
      ],
      "source": [
        "mnb.score(x_test, y_test)"
      ]
    },
    {
      "cell_type": "code",
      "execution_count": 57,
      "metadata": {
        "colab": {
          "base_uri": "https://localhost:8080/",
          "height": 72
        },
        "id": "xZG3jO_pgwK3",
        "outputId": "f1203e56-ce20-4101-c809-c3adb3089249"
      },
      "outputs": [
        {
          "name": "stdout",
          "output_type": "stream",
          "text": [
            "cross result========\n",
            "[1. 1. 1.]\n",
            "1.0\n"
          ]
        }
      ],
      "source": [
        "from sklearn import model_selection\n",
        "print (\"cross result========\")\n",
        "scores = model_selection.cross_val_score(mnb, x_test, y_test, cv=3)\n",
        "print (scores)\n",
        "print (scores.mean())"
      ]
    },
    {
      "cell_type": "code",
      "execution_count": 58,
      "metadata": {
        "id": "rx4hUmOLg0Da"
      },
      "outputs": [],
      "source": [
        "test_data = pd.read_csv(\"Datasets/Testing.csv\")"
      ]
    },
    {
      "cell_type": "code",
      "execution_count": 59,
      "metadata": {
        "colab": {
          "base_uri": "https://localhost:8080/",
          "height": 316
        },
        "id": "t5Ube_vAjQNi",
        "outputId": "aba1140c-5df2-483f-94cd-b1bab1a9de3e"
      },
      "outputs": [
        {
          "data": {
            "text/html": [
              "<div>\n",
              "<style scoped>\n",
              "    .dataframe tbody tr th:only-of-type {\n",
              "        vertical-align: middle;\n",
              "    }\n",
              "\n",
              "    .dataframe tbody tr th {\n",
              "        vertical-align: top;\n",
              "    }\n",
              "\n",
              "    .dataframe thead th {\n",
              "        text-align: right;\n",
              "    }\n",
              "</style>\n",
              "<table border=\"1\" class=\"dataframe\">\n",
              "  <thead>\n",
              "    <tr style=\"text-align: right;\">\n",
              "      <th></th>\n",
              "      <th>itching</th>\n",
              "      <th>skin_rash</th>\n",
              "      <th>nodal_skin_eruptions</th>\n",
              "      <th>continuous_sneezing</th>\n",
              "      <th>shivering</th>\n",
              "      <th>chills</th>\n",
              "      <th>joint_pain</th>\n",
              "      <th>stomach_pain</th>\n",
              "      <th>acidity</th>\n",
              "      <th>ulcers_on_tongue</th>\n",
              "      <th>...</th>\n",
              "      <th>scurring</th>\n",
              "      <th>skin_peeling</th>\n",
              "      <th>silver_like_dusting</th>\n",
              "      <th>small_dents_in_nails</th>\n",
              "      <th>inflammatory_nails</th>\n",
              "      <th>blister</th>\n",
              "      <th>red_sore_around_nose</th>\n",
              "      <th>yellow_crust_ooze</th>\n",
              "      <th>prognosis</th>\n",
              "      <th>Unnamed: 133</th>\n",
              "    </tr>\n",
              "  </thead>\n",
              "  <tbody>\n",
              "    <tr>\n",
              "      <th>0</th>\n",
              "      <td>1</td>\n",
              "      <td>1</td>\n",
              "      <td>1</td>\n",
              "      <td>0</td>\n",
              "      <td>0</td>\n",
              "      <td>0</td>\n",
              "      <td>0</td>\n",
              "      <td>0</td>\n",
              "      <td>0</td>\n",
              "      <td>0</td>\n",
              "      <td>...</td>\n",
              "      <td>0</td>\n",
              "      <td>0</td>\n",
              "      <td>0</td>\n",
              "      <td>0</td>\n",
              "      <td>0</td>\n",
              "      <td>0</td>\n",
              "      <td>0</td>\n",
              "      <td>0</td>\n",
              "      <td>Fungal infection</td>\n",
              "      <td>NaN</td>\n",
              "    </tr>\n",
              "    <tr>\n",
              "      <th>1</th>\n",
              "      <td>0</td>\n",
              "      <td>0</td>\n",
              "      <td>0</td>\n",
              "      <td>1</td>\n",
              "      <td>1</td>\n",
              "      <td>1</td>\n",
              "      <td>0</td>\n",
              "      <td>0</td>\n",
              "      <td>0</td>\n",
              "      <td>0</td>\n",
              "      <td>...</td>\n",
              "      <td>0</td>\n",
              "      <td>0</td>\n",
              "      <td>0</td>\n",
              "      <td>0</td>\n",
              "      <td>0</td>\n",
              "      <td>0</td>\n",
              "      <td>0</td>\n",
              "      <td>0</td>\n",
              "      <td>Allergy</td>\n",
              "      <td>NaN</td>\n",
              "    </tr>\n",
              "    <tr>\n",
              "      <th>2</th>\n",
              "      <td>0</td>\n",
              "      <td>0</td>\n",
              "      <td>0</td>\n",
              "      <td>0</td>\n",
              "      <td>0</td>\n",
              "      <td>0</td>\n",
              "      <td>0</td>\n",
              "      <td>1</td>\n",
              "      <td>1</td>\n",
              "      <td>1</td>\n",
              "      <td>...</td>\n",
              "      <td>0</td>\n",
              "      <td>0</td>\n",
              "      <td>0</td>\n",
              "      <td>0</td>\n",
              "      <td>0</td>\n",
              "      <td>0</td>\n",
              "      <td>0</td>\n",
              "      <td>0</td>\n",
              "      <td>GERD</td>\n",
              "      <td>NaN</td>\n",
              "    </tr>\n",
              "    <tr>\n",
              "      <th>3</th>\n",
              "      <td>1</td>\n",
              "      <td>0</td>\n",
              "      <td>0</td>\n",
              "      <td>0</td>\n",
              "      <td>0</td>\n",
              "      <td>0</td>\n",
              "      <td>0</td>\n",
              "      <td>0</td>\n",
              "      <td>0</td>\n",
              "      <td>0</td>\n",
              "      <td>...</td>\n",
              "      <td>0</td>\n",
              "      <td>0</td>\n",
              "      <td>0</td>\n",
              "      <td>0</td>\n",
              "      <td>0</td>\n",
              "      <td>0</td>\n",
              "      <td>0</td>\n",
              "      <td>0</td>\n",
              "      <td>Chronic cholestasis</td>\n",
              "      <td>NaN</td>\n",
              "    </tr>\n",
              "    <tr>\n",
              "      <th>4</th>\n",
              "      <td>1</td>\n",
              "      <td>1</td>\n",
              "      <td>0</td>\n",
              "      <td>0</td>\n",
              "      <td>0</td>\n",
              "      <td>0</td>\n",
              "      <td>0</td>\n",
              "      <td>1</td>\n",
              "      <td>0</td>\n",
              "      <td>0</td>\n",
              "      <td>...</td>\n",
              "      <td>0</td>\n",
              "      <td>0</td>\n",
              "      <td>0</td>\n",
              "      <td>0</td>\n",
              "      <td>0</td>\n",
              "      <td>0</td>\n",
              "      <td>0</td>\n",
              "      <td>0</td>\n",
              "      <td>Drug Reaction</td>\n",
              "      <td>NaN</td>\n",
              "    </tr>\n",
              "  </tbody>\n",
              "</table>\n",
              "<p>5 rows × 134 columns</p>\n",
              "</div>"
            ],
            "text/plain": [
              "   itching  skin_rash  nodal_skin_eruptions  continuous_sneezing  shivering  \\\n",
              "0        1          1                     1                    0          0   \n",
              "1        0          0                     0                    1          1   \n",
              "2        0          0                     0                    0          0   \n",
              "3        1          0                     0                    0          0   \n",
              "4        1          1                     0                    0          0   \n",
              "\n",
              "   chills  joint_pain  stomach_pain  acidity  ulcers_on_tongue  ...  scurring  \\\n",
              "0       0           0             0        0                 0  ...         0   \n",
              "1       1           0             0        0                 0  ...         0   \n",
              "2       0           0             1        1                 1  ...         0   \n",
              "3       0           0             0        0                 0  ...         0   \n",
              "4       0           0             1        0                 0  ...         0   \n",
              "\n",
              "   skin_peeling  silver_like_dusting  small_dents_in_nails  \\\n",
              "0             0                    0                     0   \n",
              "1             0                    0                     0   \n",
              "2             0                    0                     0   \n",
              "3             0                    0                     0   \n",
              "4             0                    0                     0   \n",
              "\n",
              "   inflammatory_nails  blister  red_sore_around_nose  yellow_crust_ooze  \\\n",
              "0                   0        0                     0                  0   \n",
              "1                   0        0                     0                  0   \n",
              "2                   0        0                     0                  0   \n",
              "3                   0        0                     0                  0   \n",
              "4                   0        0                     0                  0   \n",
              "\n",
              "             prognosis  Unnamed: 133  \n",
              "0     Fungal infection           NaN  \n",
              "1              Allergy           NaN  \n",
              "2                 GERD           NaN  \n",
              "3  Chronic cholestasis           NaN  \n",
              "4        Drug Reaction           NaN  \n",
              "\n",
              "[5 rows x 134 columns]"
            ]
          },
          "execution_count": 59,
          "metadata": {},
          "output_type": "execute_result"
        }
      ],
      "source": [
        "test_data.head()"
      ]
    },
    {
      "cell_type": "code",
      "execution_count": 60,
      "metadata": {
        "id": "p4OUa_l_jSah"
      },
      "outputs": [],
      "source": [
        "testx = test_data[cols]\n",
        "testy = test_data['prognosis']"
      ]
    },
    {
      "cell_type": "code",
      "execution_count": 61,
      "metadata": {
        "colab": {
          "base_uri": "https://localhost:8080/",
          "height": 35
        },
        "id": "Fu8Z0DM_jWIK",
        "outputId": "33281a61-8f67-4532-a412-60f5866fe281"
      },
      "outputs": [
        {
          "data": {
            "text/plain": [
              "0.926829268292683"
            ]
          },
          "execution_count": 61,
          "metadata": {},
          "output_type": "execute_result"
        }
      ],
      "source": [
        "mnb.score(testx, testy)"
      ]
    },
    {
      "cell_type": "code",
      "execution_count": 62,
      "metadata": {
        "colab": {
          "base_uri": "https://localhost:8080/",
          "height": 72
        },
        "id": "DkfXBCo2jZtC",
        "outputId": "bad32621-a593-487b-bec1-070c49e48fd9"
      },
      "outputs": [
        {
          "name": "stdout",
          "output_type": "stream",
          "text": [
            "cross result========\n",
            "[1. 1. 1.]\n",
            "1.0\n"
          ]
        }
      ],
      "source": [
        "from sklearn import model_selection\n",
        "print (\"cross result========\")\n",
        "scores = model_selection.cross_val_score(mnb, x_test, y_test, cv=3)\n",
        "print (scores)\n",
        "print (scores.mean())"
      ]
    },
    {
      "cell_type": "markdown",
      "metadata": {
        "id": "-ljyMB8Vj89R"
      },
      "source": [
        "##Building Classifier: Using Decision Trees"
      ]
    },
    {
      "cell_type": "code",
      "execution_count": 63,
      "metadata": {
        "id": "8MgWDlBljuZG"
      },
      "outputs": [],
      "source": [
        "from sklearn.tree import DecisionTreeClassifier, export_graphviz"
      ]
    },
    {
      "cell_type": "code",
      "execution_count": 64,
      "metadata": {
        "id": "HhoAL0k0kGJw"
      },
      "outputs": [],
      "source": [
        "x_train, x_test, y_train, y_test = train_test_split(x, y, test_size=0.33, random_state=42)"
      ]
    },
    {
      "cell_type": "code",
      "execution_count": 65,
      "metadata": {
        "colab": {
          "base_uri": "https://localhost:8080/",
          "height": 54
        },
        "id": "u3AnTvlVkIq6",
        "outputId": "d7f3b4f2-4330-4da0-abe1-e5b9b9ca1a10"
      },
      "outputs": [
        {
          "name": "stdout",
          "output_type": "stream",
          "text": [
            "DecisionTree\n",
            "Acurracy:  0.9772167487684729\n"
          ]
        }
      ],
      "source": [
        "print (\"DecisionTree\")\n",
        "dt = DecisionTreeClassifier(min_samples_split=20)\n",
        "clf_dt=dt.fit(x_train,y_train)\n",
        "print (\"Acurracy: \", clf_dt.score(x_test,y_test))"
      ]
    },
    {
      "cell_type": "code",
      "execution_count": 66,
      "metadata": {
        "colab": {
          "base_uri": "https://localhost:8080/",
          "height": 72
        },
        "id": "AMtXJU0ykLp0",
        "outputId": "4d00fe75-b095-4e1a-e52e-b2016039a421"
      },
      "outputs": [
        {
          "name": "stdout",
          "output_type": "stream",
          "text": [
            "cross result========\n",
            "[0.95202952 0.95563771 0.94269871]\n",
            "0.9501219781144207\n"
          ]
        }
      ],
      "source": [
        "from sklearn import model_selection\n",
        "print (\"cross result========\")\n",
        "scores = model_selection.cross_val_score(dt, x_test, y_test, cv=3)\n",
        "print (scores)\n",
        "print (scores.mean())"
      ]
    },
    {
      "cell_type": "code",
      "execution_count": 67,
      "metadata": {
        "colab": {
          "base_uri": "https://localhost:8080/",
          "height": 35
        },
        "id": "GHwlRiLikPjd",
        "outputId": "9ebc5885-c88b-47b1-8c21-27d0b48b576e"
      },
      "outputs": [
        {
          "name": "stdout",
          "output_type": "stream",
          "text": [
            "Acurracy on the actual test data:  0.926829268292683\n"
          ]
        }
      ],
      "source": [
        "print (\"Acurracy on the actual test data: \", clf_dt.score(testx,testy))"
      ]
    },
    {
      "cell_type": "code",
      "execution_count": 68,
      "metadata": {
        "id": "qg_zkabpkfYf"
      },
      "outputs": [],
      "source": [
        "from sklearn import tree \n",
        "from sklearn.tree import export_graphviz\n",
        "\n",
        "export_graphviz(dt, \n",
        "                out_file='tree.dot', \n",
        "                feature_names=cols)"
      ]
    },
    {
      "cell_type": "code",
      "execution_count": 69,
      "metadata": {
        "id": "sAdEI0MXkxCV"
      },
      "outputs": [
        {
          "name": "stderr",
          "output_type": "stream",
          "text": [
            "'dot' is not recognized as an internal or external command,\n",
            "operable program or batch file.\n"
          ]
        }
      ],
      "source": [
        "!dot -Tpng tree.dot -o tree.png"
      ]
    },
    {
      "cell_type": "code",
      "execution_count": 70,
      "metadata": {
        "colab": {
          "base_uri": "https://localhost:8080/",
          "height": 1000
        },
        "id": "yxQPr1jSkjro",
        "outputId": "8c09ac7e-1199-490a-f105-ef78d3da8b2e"
      },
      "outputs": [
        {
          "data": {
            "image/jpeg": "[encoded data removed]",
            "text/plain": [
              "<IPython.core.display.Image object>"
            ]
          },
          "execution_count": 70,
          "metadata": {},
          "output_type": "execute_result"
        }
      ],
      "source": [
        "from IPython.display import Image\n",
        "Image(filename='tree.jpg')"
      ]
    },
    {
      "cell_type": "code",
      "execution_count": 71,
      "metadata": {
        "colab": {
          "base_uri": "https://localhost:8080/",
          "height": 599
        },
        "id": "0zAlVeVrkpUj",
        "outputId": "5bbad5bc-262b-476a-8a5e-8601c28946b5"
      },
      "outputs": [
        {
          "data": {
            "text/plain": [
              "{'criterion': 'gini',\n",
              " 'splitter': 'best',\n",
              " 'max_depth': None,\n",
              " 'min_samples_split': 20,\n",
              " 'min_samples_leaf': 1,\n",
              " 'min_weight_fraction_leaf': 0.0,\n",
              " 'max_features': None,\n",
              " 'max_leaf_nodes': None,\n",
              " 'random_state': None,\n",
              " 'min_impurity_decrease': 0.0,\n",
              " 'class_weight': None,\n",
              " 'ccp_alpha': 0.0,\n",
              " 'monotonic_cst': None,\n",
              " 'feature_names_in_': array(['itching', 'skin_rash', 'nodal_skin_eruptions',\n",
              "        'continuous_sneezing', 'shivering', 'chills', 'joint_pain',\n",
              "        'stomach_pain', 'acidity', 'ulcers_on_tongue', 'muscle_wasting',\n",
              "        'vomiting', 'burning_micturition', 'spotting_ urination',\n",
              "        'fatigue', 'weight_gain', 'anxiety', 'cold_hands_and_feets',\n",
              "        'mood_swings', 'weight_loss', 'restlessness', 'lethargy',\n",
              "        'patches_in_throat', 'irregular_sugar_level', 'cough',\n",
              "        'high_fever', 'sunken_eyes', 'breathlessness', 'sweating',\n",
              "        'dehydration', 'indigestion', 'headache', 'yellowish_skin',\n",
              "        'dark_urine', 'nausea', 'loss_of_appetite', 'pain_behind_the_eyes',\n",
              "        'back_pain', 'constipation', 'abdominal_pain', 'diarrhoea',\n",
              "        'mild_fever', 'yellow_urine', 'yellowing_of_eyes',\n",
              "        'acute_liver_failure', 'fluid_overload', 'swelling_of_stomach',\n",
              "        'swelled_lymph_nodes', 'malaise', 'blurred_and_distorted_vision',\n",
              "        'phlegm', 'throat_irritation', 'redness_of_eyes', 'sinus_pressure',\n",
              "        'runny_nose', 'congestion', 'chest_pain', 'weakness_in_limbs',\n",
              "        'fast_heart_rate', 'pain_during_bowel_movements',\n",
              "        'pain_in_anal_region', 'bloody_stool', 'irritation_in_anus',\n",
              "        'neck_pain', 'dizziness', 'cramps', 'bruising', 'obesity',\n",
              "        'swollen_legs', 'swollen_blood_vessels', 'puffy_face_and_eyes',\n",
              "        'enlarged_thyroid', 'brittle_nails', 'swollen_extremeties',\n",
              "        'excessive_hunger', 'extra_marital_contacts',\n",
              "        'drying_and_tingling_lips', 'slurred_speech', 'knee_pain',\n",
              "        'hip_joint_pain', 'muscle_weakness', 'stiff_neck',\n",
              "        'swelling_joints', 'movement_stiffness', 'spinning_movements',\n",
              "        'loss_of_balance', 'unsteadiness', 'weakness_of_one_body_side',\n",
              "        'loss_of_smell', 'bladder_discomfort', 'foul_smell_of urine',\n",
              "        'continuous_feel_of_urine', 'passage_of_gases', 'internal_itching',\n",
              "        'toxic_look_(typhos)', 'depression', 'irritability', 'muscle_pain',\n",
              "        'altered_sensorium', 'red_spots_over_body', 'belly_pain',\n",
              "        'abnormal_menstruation', 'dischromic _patches',\n",
              "        'watering_from_eyes', 'increased_appetite', 'polyuria',\n",
              "        'family_history', 'mucoid_sputum', 'rusty_sputum',\n",
              "        'lack_of_concentration', 'visual_disturbances',\n",
              "        'receiving_blood_transfusion', 'receiving_unsterile_injections',\n",
              "        'coma', 'stomach_bleeding', 'distention_of_abdomen',\n",
              "        'history_of_alcohol_consumption', 'fluid_overload.1',\n",
              "        'blood_in_sputum', 'prominent_veins_on_calf', 'palpitations',\n",
              "        'painful_walking', 'pus_filled_pimples', 'blackheads', 'scurring',\n",
              "        'skin_peeling', 'silver_like_dusting', 'small_dents_in_nails',\n",
              "        'inflammatory_nails', 'blister', 'red_sore_around_nose',\n",
              "        'yellow_crust_ooze'], dtype=object),\n",
              " 'n_features_in_': 132,\n",
              " 'n_outputs_': 1,\n",
              " 'classes_': array(['(vertigo) Paroymsal  Positional Vertigo', 'AIDS', 'Acne',\n",
              "        'Alcoholic hepatitis', 'Allergy', 'Arthritis', 'Bronchial Asthma',\n",
              "        'Cervical spondylosis', 'Chicken pox', 'Chronic cholestasis',\n",
              "        'Common Cold', 'Dengue', 'Diabetes ',\n",
              "        'Dimorphic hemmorhoids(piles)', 'Drug Reaction',\n",
              "        'Fungal infection', 'GERD', 'Gastroenteritis', 'Heart attack',\n",
              "        'Hepatitis B', 'Hepatitis C', 'Hepatitis D', 'Hepatitis E',\n",
              "        'Hypertension ', 'Hyperthyroidism', 'Hypoglycemia',\n",
              "        'Hypothyroidism', 'Impetigo', 'Jaundice', 'Malaria', 'Migraine',\n",
              "        'Osteoarthristis', 'Paralysis (brain hemorrhage)',\n",
              "        'Peptic ulcer diseae', 'Pneumonia', 'Psoriasis', 'Tuberculosis',\n",
              "        'Typhoid', 'Urinary tract infection', 'Varicose veins',\n",
              "        'hepatitis A'], dtype=object),\n",
              " 'n_classes_': 41,\n",
              " 'max_features_': 132,\n",
              " 'tree_': <sklearn.tree._tree.Tree at 0x245f74e22c0>,\n",
              " '_sklearn_version': '1.4.0'}"
            ]
          },
          "execution_count": 71,
          "metadata": {},
          "output_type": "execute_result"
        }
      ],
      "source": [
        "dt.__getstate__()"
      ]
    },
    {
      "cell_type": "markdown",
      "metadata": {
        "id": "f2CMliiglVsm"
      },
      "source": [
        "##Finding Feature Importances"
      ]
    },
    {
      "cell_type": "code",
      "execution_count": 72,
      "metadata": {
        "colab": {
          "base_uri": "https://localhost:8080/",
          "height": 417
        },
        "id": "nnN7uVSRlFrQ",
        "outputId": "ff4c1833-4620-4290-ec84-5633b6181a72"
      },
      "outputs": [
        {
          "name": "stdout",
          "output_type": "stream",
          "text": [
            "[0.02334168 0.         0.02498471 0.00243271 0.         0.0012238\n",
            " 0.00393972 0.02193344 0.         0.         0.00154589 0.02188421\n",
            " 0.00181151 0.         0.00181763 0.         0.         0.\n",
            " 0.         0.02457854 0.         0.         0.02256045 0.\n",
            " 0.         0.         0.01780753 0.01163056 0.00189618 0.00214145\n",
            " 0.         0.         0.         0.02246041 0.02227534 0.00305078\n",
            " 0.00154167 0.02392905 0.         0.         0.         0.02426241\n",
            " 0.         0.00172826 0.         0.         0.         0.\n",
            " 0.         0.         0.         0.         0.         0.\n",
            " 0.         0.02697289 0.00129107 0.         0.         0.\n",
            " 0.         0.01952879 0.         0.02422582 0.         0.\n",
            " 0.         0.         0.         0.         0.         0.02573662\n",
            " 0.         0.         0.         0.         0.         0.\n",
            " 0.         0.02689515 0.         0.         0.         0.02379571\n",
            " 0.0012309  0.         0.02473336 0.00154926 0.         0.0012133\n",
            " 0.         0.02339132 0.         0.02691854 0.         0.02442975\n",
            " 0.0246524  0.04862966 0.02401545 0.         0.0233691  0.\n",
            " 0.00375646 0.0235661  0.         0.02665679 0.02224359 0.0012222\n",
            " 0.02322547 0.02437493 0.         0.02293124 0.         0.02179118\n",
            " 0.         0.         0.         0.0244601  0.02512604 0.0244569\n",
            " 0.02386615 0.         0.02057674 0.         0.00213161 0.\n",
            " 0.         0.         0.02597239 0.         0.00123592 0.02504913]\n"
          ]
        }
      ],
      "source": [
        "%matplotlib inline\n",
        "import numpy as np\n",
        "import matplotlib.pyplot as plt\n",
        "\n",
        "importances = dt.feature_importances_\n",
        "print(dt.feature_importances_)"
      ]
    },
    {
      "cell_type": "code",
      "execution_count": 73,
      "metadata": {
        "colab": {
          "base_uri": "https://localhost:8080/",
          "height": 55
        },
        "id": "nC1NhznpKLGR",
        "outputId": "60c69726-168f-456c-f26e-b33522a02cc5"
      },
      "outputs": [
        {
          "name": "stdout",
          "output_type": "stream",
          "text": [
            "['muscle_pain', 'congestion', 'internal_itching', 'hip_joint_pain', 'polyuria', 'inflammatory_nails', 'enlarged_thyroid', 'blood_in_sputum', 'yellow_crust_ooze', 'nodal_skin_eruptions', 'unsteadiness', 'irritability', 'weight_loss', 'fluid_overload.1', 'prominent_veins_on_calf', 'depression', 'lack_of_concentration', 'mild_fever', 'neck_pain', 'altered_sensorium', 'back_pain', 'palpitations', 'movement_stiffness', 'watering_from_eyes', 'continuous_feel_of_urine', 'belly_pain', 'itching', 'rusty_sputum', 'receiving_blood_transfusion', 'patches_in_throat', 'dark_urine', 'nausea', 'family_history', 'stomach_pain', 'vomiting', 'coma', 'pus_filled_pimples', 'bloody_stool', 'sunken_eyes', 'breathlessness', 'joint_pain', 'dischromic _patches', 'loss_of_appetite', 'continuous_sneezing', 'dehydration', 'scurring', 'sweating', 'fatigue', 'burning_micturition', 'yellowing_of_eyes', 'weakness_of_one_body_side', 'muscle_wasting', 'pain_behind_the_eyes', 'chest_pain', 'red_sore_around_nose', 'spinning_movements', 'chills', 'mucoid_sputum', 'bladder_discomfort', 'headache', 'yellow_urine', 'skin_peeling', 'indigestion', 'diarrhoea', 'silver_like_dusting', 'abdominal_pain', 'constipation', 'yellowish_skin', 'increased_appetite', 'high_fever', 'weight_gain', 'skin_rash', 'blister', 'shivering', 'acidity', 'ulcers_on_tongue', 'spotting_ urination', 'anxiety', 'cough', 'cold_hands_and_feets', 'mood_swings', 'small_dents_in_nails', 'acute_liver_failure', 'lethargy', 'irregular_sugar_level', 'restlessness', 'redness_of_eyes', 'fluid_overload', 'excessive_hunger', 'drying_and_tingling_lips', 'slurred_speech', 'knee_pain', 'painful_walking', 'muscle_weakness', 'stiff_neck', 'swelling_joints', 'history_of_alcohol_consumption', 'loss_of_balance', 'distention_of_abdomen', 'loss_of_smell', 'foul_smell_of urine', 'stomach_bleeding', 'passage_of_gases', 'toxic_look_(typhos)', 'receiving_unsterile_injections', 'visual_disturbances', 'red_spots_over_body', 'abnormal_menstruation', 'extra_marital_contacts', 'swollen_extremeties', 'swelling_of_stomach', 'brittle_nails', 'swelled_lymph_nodes', 'malaise', 'blurred_and_distorted_vision', 'phlegm', 'throat_irritation', 'sinus_pressure', 'runny_nose', 'weakness_in_limbs', 'fast_heart_rate', 'pain_during_bowel_movements', 'pain_in_anal_region', 'irritation_in_anus', 'blackheads', 'dizziness', 'bruising', 'obesity', 'swollen_legs', 'swollen_blood_vessels', 'puffy_face_and_eyes', 'cramps']\n"
          ]
        }
      ],
      "source": [
        "indices = np.argsort(importances)[::-1]\n",
        "print([data.columns[i] for i in indices])"
      ]
    },
    {
      "cell_type": "code",
      "execution_count": 74,
      "metadata": {
        "id": "3ZmYOS3Nlb8q"
      },
      "outputs": [],
      "source": [
        "features = cols"
      ]
    },
    {
      "cell_type": "code",
      "execution_count": 75,
      "metadata": {
        "colab": {
          "base_uri": "https://localhost:8080/",
          "height": 381
        },
        "id": "SJ7ZGbA0leiv",
        "outputId": "43625c6d-f5e6-48ef-f43f-b0a921762d24"
      },
      "outputs": [
        {
          "name": "stdout",
          "output_type": "stream",
          "text": [
            "1. feature 97 - muscle_pain (0.048630)\n",
            "2. feature 55 - congestion (0.026973)\n",
            "3. feature 93 - internal_itching (0.026919)\n",
            "4. feature 79 - hip_joint_pain (0.026895)\n",
            "5. feature 105 - polyuria (0.026657)\n",
            "6. feature 128 - inflammatory_nails (0.025972)\n",
            "7. feature 71 - enlarged_thyroid (0.025737)\n",
            "8. feature 118 - blood_in_sputum (0.025126)\n",
            "9. feature 131 - yellow_crust_ooze (0.025049)\n",
            "10. feature 2 - nodal_skin_eruptions (0.024985)\n",
            "11. feature 86 - unsteadiness (0.024733)\n",
            "12. feature 96 - irritability (0.024652)\n",
            "13. feature 19 - weight_loss (0.024579)\n",
            "14. feature 117 - fluid_overload.1 (0.024460)\n",
            "15. feature 119 - prominent_veins_on_calf (0.024457)\n",
            "16. feature 95 - depression (0.024430)\n",
            "17. feature 109 - lack_of_concentration (0.024375)\n",
            "18. feature 41 - mild_fever (0.024262)\n",
            "19. feature 63 - neck_pain (0.024226)\n",
            "20. feature 98 - altered_sensorium (0.024015)\n"
          ]
        }
      ],
      "source": [
        "for f in range(20):\n",
        "    print(\"%d. feature %d - %s (%f)\" % (f + 1, indices[f], features[indices[f]] ,importances[indices[f]]))"
      ]
    },
    {
      "cell_type": "code",
      "execution_count": 76,
      "metadata": {
        "id": "3WqZcnjAmijE"
      },
      "outputs": [],
      "source": [
        "export_graphviz(dt, \n",
        "                out_file='tree-top5.dot', \n",
        "                feature_names=cols,\n",
        "                max_depth = 5\n",
        "               )"
      ]
    },
    {
      "cell_type": "code",
      "execution_count": 77,
      "metadata": {
        "id": "tgBdPIvMmzEA"
      },
      "outputs": [
        {
          "name": "stderr",
          "output_type": "stream",
          "text": [
            "'dot' is not recognized as an internal or external command,\n",
            "operable program or batch file.\n"
          ]
        }
      ],
      "source": [
        "!dot -Tpng tree-top5.dot -o tree-top5.png"
      ]
    },
    {
      "cell_type": "code",
      "execution_count": 78,
      "metadata": {
        "colab": {
          "base_uri": "https://localhost:8080/",
          "height": 1000
        },
        "id": "k8YbYIWommBI",
        "outputId": "ecd3c40d-ae7c-4a12-f471-9fe768852edb"
      },
      "outputs": [
        {
          "data": {
            "image/png": "[encoded data removed]",
            "text/plain": [
              "<IPython.core.display.Image object>"
            ]
          },
          "execution_count": 78,
          "metadata": {},
          "output_type": "execute_result"
        }
      ],
      "source": [
        "from IPython.display import Image\n",
        "Image(filename='tree-top5.png')\n"
      ]
    },
    {
      "cell_type": "code",
      "execution_count": 79,
      "metadata": {
        "id": "2e79jMfmmrbt"
      },
      "outputs": [],
      "source": [
        "feature_dict = {}\n",
        "for i,f in enumerate(features):\n",
        "    feature_dict[f] = i"
      ]
    },
    {
      "cell_type": "code",
      "execution_count": 80,
      "metadata": {
        "colab": {
          "base_uri": "https://localhost:8080/",
          "height": 35
        },
        "id": "PREXLHSjm311",
        "outputId": "ac5e8bbe-2abd-4597-871f-85a82381b9d6"
      },
      "outputs": [
        {
          "data": {
            "text/plain": [
              "93"
            ]
          },
          "execution_count": 80,
          "metadata": {},
          "output_type": "execute_result"
        }
      ],
      "source": [
        "feature_dict['internal_itching']"
      ]
    },
    {
      "cell_type": "code",
      "execution_count": 81,
      "metadata": {
        "colab": {
          "base_uri": "https://localhost:8080/",
          "height": 35
        },
        "id": "-q2d6J_4nINl",
        "outputId": "2abce482-48e3-4dfb-e065-da74673df289"
      },
      "outputs": [
        {
          "name": "stdout",
          "output_type": "stream",
          "text": [
            "1\n"
          ]
        }
      ],
      "source": [
        "sample_x = [i/52 if i==52 else i*0 for i in range(len(features))]\n",
        "cols = list(data.columns) \n",
        "print(cols.index('skin_rash'))"
      ]
    },
    {
      "cell_type": "markdown",
      "metadata": {
        "id": "EAnXtLs2naLv"
      },
      "source": [
        "This means predicting the disease where the only symptom is redness_of_eyes."
      ]
    },
    {
      "cell_type": "code",
      "execution_count": 82,
      "metadata": {
        "id": "GdbGMPFind6X"
      },
      "outputs": [],
      "source": [
        "sample_x = np.array(sample_x).reshape(1,len(sample_x))"
      ]
    },
    {
      "cell_type": "code",
      "execution_count": 83,
      "metadata": {
        "colab": {
          "base_uri": "https://localhost:8080/",
          "height": 35
        },
        "id": "D_sBjfpengsw",
        "outputId": "fc722874-1cab-46a5-dcbd-d06f2418f82b"
      },
      "outputs": [
        {
          "name": "stderr",
          "output_type": "stream",
          "text": [
            "c:\\Users\\sahil\\AppData\\Local\\Programs\\Python\\Python311\\Lib\\site-packages\\sklearn\\base.py:493: UserWarning: X does not have valid feature names, but DecisionTreeClassifier was fitted with feature names\n",
            "  warnings.warn(\n"
          ]
        },
        {
          "data": {
            "text/plain": [
              "array(['Dimorphic hemmorhoids(piles)'], dtype=object)"
            ]
          },
          "execution_count": 83,
          "metadata": {},
          "output_type": "execute_result"
        }
      ],
      "source": [
        "dt.predict(sample_x)"
      ]
    },
    {
      "cell_type": "code",
      "execution_count": 84,
      "metadata": {
        "colab": {
          "base_uri": "https://localhost:8080/",
          "height": 181
        },
        "id": "y2NCkKkvnjTP",
        "outputId": "62e1eff4-0dc8-47ec-dace-481177c52998"
      },
      "outputs": [
        {
          "name": "stderr",
          "output_type": "stream",
          "text": [
            "c:\\Users\\sahil\\AppData\\Local\\Programs\\Python\\Python311\\Lib\\site-packages\\sklearn\\base.py:493: UserWarning: X does not have valid feature names, but DecisionTreeClassifier was fitted with feature names\n",
            "  warnings.warn(\n"
          ]
        },
        {
          "data": {
            "text/plain": [
              "array([[0.        , 0.        , 0.        , 0.11764706, 0.        ,\n",
              "        0.11764706, 0.        , 0.11764706, 0.        , 0.        ,\n",
              "        0.        , 0.        , 0.        , 0.17647059, 0.        ,\n",
              "        0.        , 0.        , 0.        , 0.        , 0.        ,\n",
              "        0.        , 0.        , 0.        , 0.        , 0.        ,\n",
              "        0.        , 0.        , 0.        , 0.        , 0.        ,\n",
              "        0.17647059, 0.        , 0.        , 0.17647059, 0.        ,\n",
              "        0.        , 0.        , 0.        , 0.        , 0.11764706,\n",
              "        0.        ]])"
            ]
          },
          "execution_count": 84,
          "metadata": {},
          "output_type": "execute_result"
        }
      ],
      "source": [
        "dt.predict_proba(sample_x)"
      ]
    },
    {
      "cell_type": "code",
      "execution_count": 85,
      "metadata": {
        "colab": {
          "base_uri": "https://localhost:8080/",
          "height": 35
        },
        "id": "gE4paMaBnNNd",
        "outputId": "ef29ab6a-29e6-4d51-b192-4757982d71a9"
      },
      "outputs": [
        {
          "data": {
            "text/plain": [
              "1"
            ]
          },
          "execution_count": 85,
          "metadata": {},
          "output_type": "execute_result"
        }
      ],
      "source": [
        "len(sample_x)"
      ]
    },
    {
      "cell_type": "code",
      "execution_count": 86,
      "metadata": {
        "colab": {
          "base_uri": "https://localhost:8080/",
          "height": 163
        },
        "id": "6S6J3MvqZlBr",
        "outputId": "9bd7300a-ae02-4a99-9719-d820bb4a62e7"
      },
      "outputs": [
        {
          "name": "stdout",
          "output_type": "stream",
          "text": [
            "[[1 1 1 0 0 0 0 0 0 0 0 0 0 0 0 0 0 0 0 0 0 0 0 0 0 0 0 0 0 0 0 0 0 0 0 0\n",
            "  0 0 0 0 0 0 0 0 0 0 0 0 0 0 0 0 0 0 0 0 0 0 0 0 0 0 0 0 0 0 0 0 0 0 0 0\n",
            "  0 0 0 0 0 0 0 0 0 0 0 0 0 0 0 0 0 0 0 0 0 0 0 0 1 0 0 0 0 0 0 0 1 0 0 0\n",
            "  0 0 0 0 0 0 0 0 0 0 0 0 0 0 0 0 0 0 0 0 0 0 0 0]]\n",
            "['Fungal infection']\n"
          ]
        },
        {
          "name": "stderr",
          "output_type": "stream",
          "text": [
            "c:\\Users\\sahil\\AppData\\Local\\Programs\\Python\\Python311\\Lib\\site-packages\\sklearn\\base.py:493: UserWarning: X does not have valid feature names, but DecisionTreeClassifier was fitted with feature names\n",
            "  warnings.warn(\n",
            "c:\\Users\\sahil\\AppData\\Local\\Programs\\Python\\Python311\\Lib\\site-packages\\sklearn\\base.py:493: UserWarning: X does not have valid feature names, but DecisionTreeClassifier was fitted with feature names\n",
            "  warnings.warn(\n"
          ]
        },
        {
          "data": {
            "text/plain": [
              "array([[0., 0., 0., 0., 0., 0., 0., 0., 0., 0., 0., 0., 0., 0., 0., 1.,\n",
              "        0., 0., 0., 0., 0., 0., 0., 0., 0., 0., 0., 0., 0., 0., 0., 0.,\n",
              "        0., 0., 0., 0., 0., 0., 0., 0., 0.]])"
            ]
          },
          "execution_count": 86,
          "metadata": {},
          "output_type": "execute_result"
        }
      ],
      "source": [
        "\n",
        "symptoms = ['skin_rash','itching','nodal_skin_eruptions','increased_appetite','irritability']\n",
        "ipt = [0 for i in range(len(features))]\n",
        "for s in symptoms:\n",
        "  ipt[cols.index(s)]=1\n",
        "ipt = np.array([ipt])\n",
        "print(ipt)\n",
        "print(dt.predict(ipt))\n",
        "dt.predict_proba(ipt)"
      ]
    },
    {
      "cell_type": "code",
      "execution_count": 87,
      "metadata": {},
      "outputs": [],
      "source": [
        "import pickle\n",
        "with open('decision_tree_model.sav', 'wb') as dt_file:\n",
        "    pickle.dump(dt, dt_file)"
      ]
    }
  ],
  "metadata": {
    "colab": {
      "collapsed_sections": [
        "5_OeGJCu4LAJ",
        "IuaLxhtOMQxx",
        "-ljyMB8Vj89R"
      ],
      "name": "Disease Prediction from Symptoms",
      "provenance": []
    },
    "kernelspec": {
      "display_name": "Python 3",
      "name": "python3"
    },
    "language_info": {
      "codemirror_mode": {
        "name": "ipython",
        "version": 3
      },
      "file_extension": ".py",
      "mimetype": "text/x-python",
      "name": "python",
      "nbconvert_exporter": "python",
      "pygments_lexer": "ipython3",
      "version": "3.11.2"
    }
  },
  "nbformat": 4,
  "nbformat_minor": 0
}
